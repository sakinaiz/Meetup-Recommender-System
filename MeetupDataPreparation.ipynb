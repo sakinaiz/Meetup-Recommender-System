{
 "cells": [
  {
   "cell_type": "code",
   "execution_count": 1,
   "metadata": {
    "collapsed": true
   },
   "outputs": [],
   "source": [
    "from MeetupHelperFunctions import *\n",
    "\n",
    "import pandas as pd\n",
    "import numpy as np\n",
    "\n",
    "import os\n",
    "\n",
    "import datetime as dt\n",
    "import re\n",
    "import gc\n",
    "import time\n",
    "import pickle"
   ]
  },
  {
   "cell_type": "code",
   "execution_count": 2,
   "metadata": {
    "collapsed": true
   },
   "outputs": [],
   "source": [
    "import matplotlib.pyplot as plt\n",
    "import matplotlib.ticker as ticker\n",
    "\n",
    "import seaborn as sns\n",
    "sns.set()\n",
    "\n",
    "# To Plot matplotlib figures inline on the notebook\n",
    "%matplotlib inline\n",
    "\n",
    "sns.set(font_scale = 2)\n",
    "\n",
    "#plt.style.use('fivethirtyeight') # pretty matplotlib plots\n",
    "plt.style.use('ggplot')\n",
    "plt.rcParams['figure.figsize'] = (9, 5)\n",
    "plt.rc('font', size=14)\n",
    "plt.rc('figure', titlesize=18)\n",
    "plt.rc('axes', labelsize=15)\n",
    "plt.rc('axes', titlesize=18)"
   ]
  },
  {
   "cell_type": "code",
   "execution_count": 3,
   "metadata": {
    "collapsed": true
   },
   "outputs": [],
   "source": [
    "#folder containing csv files\n",
    "data_folder = 'data/'\n",
    "\n",
    "#folder containing Meetup groups data\n",
    "group_folder = data_folder+'group_data_v2/'\n",
    "\n",
    "#folder containing Meetup groups data\n",
    "events_folder = data_folder+'event_data/'\n",
    "\n",
    "#today's date\n",
    "date_today = pd.to_datetime('today').floor(freq='D')"
   ]
  },
  {
   "cell_type": "markdown",
   "metadata": {},
   "source": [
    "## Load and Clean the groups data"
   ]
  },
  {
   "cell_type": "code",
   "execution_count": 4,
   "metadata": {},
   "outputs": [
    {
     "data": {
      "text/plain": [
       "14"
      ]
     },
     "execution_count": 4,
     "metadata": {},
     "output_type": "execute_result"
    }
   ],
   "source": [
    "# get all category IDs\n",
    "category_ids = list(pd.read_csv(data_folder+'categories.csv', usecols=['id'])['id'])\n",
    "\n",
    "# merge all the groups csv files\n",
    "df_list = []\n",
    "for cat_id in category_ids:\n",
    "    df = pd.read_csv(group_folder+'categoryID_'+str(cat_id)+'.csv', \n",
    "                     usecols=['id', 'name', 'category.id', 'category.name', 'category.shortname', \n",
    "                              'city', 'state', 'country', 'lat', 'lon', 'created', \n",
    "                              'members', 'description', 'organizer.member_id', 'rating', \n",
    "                              'topics', 'urlname', 'visibility', 'join_mode',\n",
    "                              'last_event.id', 'last_event.name', 'last_event.time',\n",
    "                              'last_event.utc_offset', 'last_event.yes_rsvp_count',\n",
    "                              'next_event.id', 'next_event.name', 'next_event.time',\n",
    "                              'next_event.utc_offset', 'next_event.yes_rsvp_count',\n",
    "                              'membership_dues.required', 'membership_dues.trial_days',\n",
    "                              'join_info.photo_req', 'join_info.questions_req',     \n",
    "                              'who', 'sponsors', 'contributions.enabled'],\n",
    "                     skipinitialspace=True)\n",
    "    df['created'] = pd.to_datetime(df['created'], unit='ms').dt.floor(freq='D')\n",
    "    df['last_event_time'] = df['last_event.time']+df['last_event.utc_offset']\n",
    "    df['last_event_time'] = pd.to_datetime(df['last_event_time'], unit='ms').dt.floor(freq='D')\n",
    "    df['next_event_time'] = df['next_event.time']+df['next_event.utc_offset']\n",
    "    df['next_event_time'] = pd.to_datetime(df['next_event_time'], unit='ms').dt.floor(freq='D')\n",
    "    \n",
    "    df.drop(['last_event.time', 'last_event.utc_offset',\n",
    "             'next_event.time', 'next_event.utc_offset'], axis=1, inplace=True)\n",
    "    \n",
    "    df_list.append(df)\n",
    "    \n",
    "groups_df = pd.concat(df_list, ignore_index=True)\n",
    "groups_df.rename(columns={\"id\":\"group_id\", \"name\":\"group_name\",\n",
    "                          \"created\":\"group_created_date\",\n",
    "                          \"organizer.member_id\":\"organizer_id\",\n",
    "                          \"members\":\"group_member_count\",\n",
    "                          \"rating\":\"group_rating\"},\n",
    "                 inplace=True)\n",
    "\n",
    "# merge city and state fields\n",
    "groups_df['group_location'] = (groups_df[['city', 'state']].copy()\n",
    "                               .apply(lambda loc: '-'.join(loc) if loc[1] in us_states else loc[0], \n",
    "                                      axis=1)\n",
    "                              )\n",
    "\n",
    "# delete list not needed\n",
    "del df_list[:] \n",
    "del df\n",
    "gc.collect()"
   ]
  },
  {
   "cell_type": "code",
   "execution_count": 5,
   "metadata": {},
   "outputs": [
    {
     "name": "stdout",
     "output_type": "stream",
     "text": [
      "Number of Meetup groups selected: 36571\n",
      "Top 10 locations:\n"
     ]
    },
    {
     "data": {
      "text/plain": [
       "['New York-NY',\n",
       " 'San Francisco-CA',\n",
       " 'Los Angeles-CA',\n",
       " 'Chicago-IL',\n",
       " 'San Diego-CA',\n",
       " 'Austin-TX',\n",
       " 'Denver-CO',\n",
       " 'Seattle-WA',\n",
       " 'Washington-DC',\n",
       " 'Atlanta-GA']"
      ]
     },
     "execution_count": 5,
     "metadata": {},
     "output_type": "execute_result"
    }
   ],
   "source": [
    "# get top locations based on number of groups\n",
    "min_location_cnt = 10\n",
    "min_mem_cnt = 5 \n",
    "top_locations = list(groups_df.groupby(['group_location'])['group_id']\n",
    "                     .agg('nunique')\n",
    "                     .nlargest(min_location_cnt)\n",
    "                     .index)\n",
    "\n",
    "select_group_ids = list(groups_df[(groups_df['group_member_count']>min_mem_cnt) & \n",
    "                                  (groups_df['group_location'].isin(top_locations))]\n",
    "                        ['group_id'].unique())\n",
    "print('Number of Meetup groups selected: {}'.format(len(select_group_ids)))\n",
    "print('Top {} locations:'.format(min_location_cnt))\n",
    "top_locations"
   ]
  },
  {
   "cell_type": "code",
   "execution_count": 6,
   "metadata": {},
   "outputs": [
    {
     "name": "stdout",
     "output_type": "stream",
     "text": [
      "Dimensions of full group dataframe: (176312, 35)\n",
      "Dimensions of selected group dataframe: (36571, 35)\n",
      "Number of groups with missing organizer ids:  428\n",
      "Dimensions of selected group dataframe after cleaning: (36143, 35)\n"
     ]
    }
   ],
   "source": [
    "print('Dimensions of full group dataframe:', groups_df.shape)\n",
    "select_groups_df = groups_df[groups_df['group_id'].isin(select_group_ids)].copy()\n",
    "print('Dimensions of selected group dataframe:', select_groups_df.shape)\n",
    "\n",
    "print('Number of groups with missing organizer ids: ',sum(select_groups_df['organizer_id'].isnull()))\n",
    "select_groups_df.dropna(subset=['group_id', 'organizer_id'], how='any', axis=0, inplace=True)\n",
    "select_groups_df.drop_duplicates(subset=['group_id', 'organizer_id'], inplace=True)\n",
    "print('Dimensions of selected group dataframe after cleaning:', select_groups_df.shape)"
   ]
  },
  {
   "cell_type": "code",
   "execution_count": 7,
   "metadata": {},
   "outputs": [
    {
     "data": {
      "text/plain": [
       "70"
      ]
     },
     "execution_count": 7,
     "metadata": {},
     "output_type": "execute_result"
    }
   ],
   "source": [
    "# delete the bigger dataframe\n",
    "del groups_df\n",
    "gc.collect()"
   ]
  },
  {
   "cell_type": "markdown",
   "metadata": {},
   "source": [
    "## Load and Clean organizers data"
   ]
  },
  {
   "cell_type": "code",
   "execution_count": 8,
   "metadata": {},
   "outputs": [
    {
     "name": "stdout",
     "output_type": "stream",
     "text": [
      "Reading file:  organizers_part4.csv\n",
      "Reading file:  organizers_part1.csv\n",
      "Reading file:  organizers_part2.csv\n",
      "Reading file:  organizers_part3.csv\n"
     ]
    },
    {
     "data": {
      "text/plain": [
       "42"
      ]
     },
     "execution_count": 8,
     "metadata": {},
     "output_type": "execute_result"
    }
   ],
   "source": [
    "data_filenames = [f for f in os.listdir(data_folder) if os.path.isfile(data_folder+f)]\n",
    "df_list = []\n",
    "for file in data_filenames:\n",
    "    if file.endswith(\".csv\"):\n",
    "        if file.startswith('organizers_part'):\n",
    "            print('Reading file: ', file)\n",
    "            df = pd.read_csv(data_folder+file,\n",
    "                             usecols=['id', 'city', 'state', 'country', 'lat', 'lon', \n",
    "                                      'membership_count', 'messaging_pref', \n",
    "                                      'name', 'topics', 'joined', 'visited'],\n",
    "                             skipinitialspace=True,\n",
    "                             low_memory=False)\n",
    "            df['joined']  = pd.to_datetime(df['joined'],  unit='ms').dt.floor(freq='D')\n",
    "            df['visited'] = pd.to_datetime(df['visited'], unit='ms').dt.floor(freq='D')\n",
    "            df_list.append(df)\n",
    "organizers_df = pd.concat(df_list, ignore_index=True)\n",
    "organizers_df.rename(columns={\"id\"  : \"organizer_id\", \n",
    "                              \"name\": \"organizer_name\",\n",
    "                              \"membership_count\":'num_active_membership',\n",
    "                              \"joined\":\"meetup_joined_date\",\n",
    "                              \"visited\":\"most_recent_visit_date\"},\n",
    "                     inplace=True)\n",
    "\n",
    "# delete list not needed\n",
    "del df_list[:] \n",
    "del df\n",
    "gc.collect()"
   ]
  },
  {
   "cell_type": "code",
   "execution_count": 9,
   "metadata": {},
   "outputs": [
    {
     "name": "stdout",
     "output_type": "stream",
     "text": [
      "Dimensions of organizers dataframe: (134105, 12)\n",
      "Dimensions of organizers dataframe after cleaning: (123761, 12)\n"
     ]
    }
   ],
   "source": [
    "print('Dimensions of organizers dataframe:', organizers_df.shape)\n",
    "organizers_df.dropna(subset=['organizer_id'], axis=0, inplace=True)\n",
    "organizers_df.drop_duplicates(subset=['organizer_id'], inplace=True)\n",
    "print('Dimensions of organizers dataframe after cleaning:', organizers_df.shape)"
   ]
  },
  {
   "cell_type": "markdown",
   "metadata": {
    "collapsed": true
   },
   "source": [
    "## load and clean Events data"
   ]
  },
  {
   "cell_type": "code",
   "execution_count": 10,
   "metadata": {},
   "outputs": [
    {
     "name": "stdout",
     "output_type": "stream",
     "text": [
      "Reading file: all_group_events_script.csv\n",
      "Reading file: all_group_events_script_part2.csv\n"
     ]
    },
    {
     "data": {
      "text/plain": [
       "74"
      ]
     },
     "execution_count": 10,
     "metadata": {},
     "output_type": "execute_result"
    }
   ],
   "source": [
    "## Merge the events csv files using the script ReadGroupEventsInfo2DF.py\n",
    "# read the merged df\n",
    "usecols = ['id', 'group.id', 'status', 'time', 'created', 'utc_offset', 'yes_rsvp_count', 'maybe_rsvp_count']\n",
    "data_filenames = [f for f in os.listdir(data_folder) if os.path.isfile(data_folder+f)]\n",
    "df_list = []\n",
    "for file in data_filenames:\n",
    "    if file.endswith(\".csv\"):        \n",
    "        if file.startswith('all_group_events_script'):\n",
    "            print('Reading file:', file)\n",
    "            df = pd.read_csv(data_folder+file, \n",
    "                             usecols=usecols,\n",
    "                             low_memory=False,\n",
    "                             skipinitialspace=True)\n",
    "            df_list.append(df)\n",
    "            \n",
    "all_events_df = pd.concat(df_list, ignore_index=True)\n",
    "all_events_df.rename(columns={'group.id':'group_id',\n",
    "                              'status':'event_status',\n",
    "                              'id':'event_id'},\n",
    "                    inplace=True)\n",
    "del df_list[:]\n",
    "gc.collect()"
   ]
  },
  {
   "cell_type": "code",
   "execution_count": 11,
   "metadata": {},
   "outputs": [
    {
     "name": "stdout",
     "output_type": "stream",
     "text": [
      "Dimensions of events dataframe: (3448596, 8)\n",
      "Dimensions of events dataframe after cleaning: (3423286, 8)\n"
     ]
    },
    {
     "data": {
      "text/plain": [
       "past        2977594\n",
       "upcoming     445692\n",
       "Name: event_status, dtype: int64"
      ]
     },
     "execution_count": 11,
     "metadata": {},
     "output_type": "execute_result"
    }
   ],
   "source": [
    "event_status_sel = ['past', 'upcoming']\n",
    "all_events_df = all_events_df[all_events_df['event_status'].isin(event_status_sel)].copy()\n",
    "\n",
    "print('Dimensions of events dataframe:', all_events_df.shape)\n",
    "all_events_df.dropna(subset=['group_id', 'event_id'], how='any', axis=0, inplace=True)\n",
    "all_events_df.drop_duplicates(subset=['group_id', 'event_id'], inplace=True)\n",
    "print('Dimensions of events dataframe after cleaning:', all_events_df.shape)\n",
    "\n",
    "all_events_df['event_status'].value_counts()"
   ]
  },
  {
   "cell_type": "code",
   "execution_count": 12,
   "metadata": {
    "collapsed": true
   },
   "outputs": [],
   "source": [
    "all_events_df['event_time'] = all_events_df['time']+all_events_df['utc_offset']\n",
    "all_events_df['event_time'] = pd.to_datetime(all_events_df['event_time'], unit='ms').dt.floor(freq='D')\n",
    "all_events_df.drop(['time','utc_offset'], axis=1, inplace=True)"
   ]
  },
  {
   "cell_type": "code",
   "execution_count": 13,
   "metadata": {
    "collapsed": true
   },
   "outputs": [],
   "source": [
    "def num_past_events(series):\n",
    "    today2event_days = (date_today - series).dt.days\n",
    "    past_events = today2event_days[today2event_days>=0]\n",
    "    if len(past_events)==0:\n",
    "        return 0\n",
    "    else:\n",
    "        return len(past_events)\n",
    "\n",
    "def most_recent(series):\n",
    "    today2event_days = (date_today - series).dt.days\n",
    "    past_events = today2event_days[today2event_days>=0]\n",
    "    if len(past_events)==0:\n",
    "        future_events = np.abs(today2event_days[(today2event_days<0)&\n",
    "                                                (np.abs(today2event_days)<31)]) # event within one month from today\n",
    "        if len(future_events)==0:\n",
    "            return None\n",
    "        else:\n",
    "            return min(future_events)\n",
    "    else:\n",
    "        return min(past_events)\n",
    "    \n",
    "def mean_freq(series):\n",
    "    past = series[series<=date_today].copy()\n",
    "    if not past.empty:\n",
    "        return past.diff().mean().days\n",
    "    else:\n",
    "        future = series[series>date_today].copy()\n",
    "        if not future.empty:\n",
    "            return future.diff().mean().days\n",
    "        else:\n",
    "            return None"
   ]
  },
  {
   "cell_type": "code",
   "execution_count": 14,
   "metadata": {},
   "outputs": [
    {
     "name": "stdout",
     "output_type": "stream",
     "text": [
      "Number of unique groups with event information: 28714\n"
     ]
    }
   ],
   "source": [
    "agg_func = {'yes_rsvp_count':['sum','mean'], \n",
    "            'maybe_rsvp_count':['sum','mean'],\n",
    "            'event_time':['min', 'max', num_past_events, most_recent, mean_freq], \n",
    "            'event_status':['count']}\n",
    "events_group_df = all_events_df.groupby('group_id').agg(agg_func).reset_index()\n",
    "\n",
    "events_group_df.columns = ['_'.join(list(col)).strip('_') for col in events_group_df.columns.tolist()]\n",
    "\n",
    "events_group_df['group_event1_age_days'] = ((date_today -\n",
    "                                             events_group_df['event_time_min'])\n",
    "                                             .dt.days)\n",
    "events_group_df['group_eventN_age_days'] = ((date_today -\n",
    "                                             events_group_df['event_time_max'])\n",
    "                                             .dt.days)\n",
    "events_group_df.rename(columns={'event_status_count':'all_event_count',\n",
    "                                'event_time_most_recent':'event_most_recent',\n",
    "                                'event_time_mean_freq':'events_mean_freq',\n",
    "                                'event_time_num_past_events':'past_event_count'},\n",
    "                       inplace=True)\n",
    "\n",
    "# delete the bigger dataframe\n",
    "del all_events_df\n",
    "gc.collect()\n",
    "\n",
    "print('Number of unique groups with event information:', events_group_df.shape[0])"
   ]
  },
  {
   "cell_type": "markdown",
   "metadata": {},
   "source": [
    "## Find subset of organizer and groups common to all dataframes and trim them"
   ]
  },
  {
   "cell_type": "code",
   "execution_count": 15,
   "metadata": {},
   "outputs": [
    {
     "name": "stdout",
     "output_type": "stream",
     "text": [
      "Number of groups selected: 18111\n",
      "Dimensions of groups dataframe after selection: (18111, 35)\n",
      "Dimensions of events dataframe after selection: (18111, 13)\n"
     ]
    }
   ],
   "source": [
    "select_group_ids = list( \n",
    "                        set(select_groups_df['group_id'].unique()) & \n",
    "                        set(events_group_df['group_id'].unique())\n",
    "                       )\n",
    "print('Number of groups selected: {}'.format(len(select_group_ids)))\n",
    "\n",
    "select_groups_df = select_groups_df[select_groups_df['group_id'].isin(select_group_ids)].copy()\n",
    "print('Dimensions of groups dataframe after selection:', select_groups_df.shape)\n",
    "events_group_df  = events_group_df[events_group_df['group_id'].isin(select_group_ids)].copy()\n",
    "print('Dimensions of events dataframe after selection:', events_group_df.shape)"
   ]
  },
  {
   "cell_type": "code",
   "execution_count": 16,
   "metadata": {},
   "outputs": [
    {
     "name": "stdout",
     "output_type": "stream",
     "text": [
      "Number of organizers selected: 13850\n",
      "Dimensions of groups dataframe after selection: (18111, 35)\n",
      "Dimensions of organizers dataframe after selection: (13850, 12)\n"
     ]
    }
   ],
   "source": [
    "select_organizer_ids = list( \n",
    "                            set(select_groups_df['organizer_id'].unique()) & \n",
    "                            set(organizers_df['organizer_id'].unique())\n",
    "                           )\n",
    "print('Number of organizers selected: {}'.format(len(select_organizer_ids)))\n",
    "\n",
    "select_groups_df     = select_groups_df[select_groups_df['organizer_id'].isin(select_organizer_ids)].copy()\n",
    "print('Dimensions of groups dataframe after selection:', select_groups_df.shape)\n",
    "select_organizers_df = organizers_df[organizers_df['organizer_id'].isin(select_organizer_ids)].copy()\n",
    "print('Dimensions of organizers dataframe after selection:', select_organizers_df.shape)"
   ]
  },
  {
   "cell_type": "code",
   "execution_count": 17,
   "metadata": {},
   "outputs": [
    {
     "data": {
      "text/plain": [
       "28"
      ]
     },
     "execution_count": 17,
     "metadata": {},
     "output_type": "execute_result"
    }
   ],
   "source": [
    "# delete the bigger dataframe\n",
    "del organizers_df\n",
    "gc.collect()"
   ]
  },
  {
   "cell_type": "markdown",
   "metadata": {},
   "source": [
    "## Add/Analyze select group dataframe features"
   ]
  },
  {
   "cell_type": "code",
   "execution_count": 18,
   "metadata": {},
   "outputs": [
    {
     "name": "stdout",
     "output_type": "stream",
     "text": [
      "# Organizers with more than 1 group: 2968\n"
     ]
    }
   ],
   "source": [
    "organizer_group_count_df = (select_groups_df.groupby(['organizer_id', 'group_id'])\n",
    "                            .size()\n",
    "                            .groupby('organizer_id')\n",
    "                            .size())\n",
    "organizers_with_more_than_1group_df = (organizer_group_count_df[organizer_group_count_df > 1]\n",
    "                                       .reset_index()[['organizer_id']])\n",
    "print('# Organizers with more than 1 group: %d' % len(organizers_with_more_than_1group_df))"
   ]
  },
  {
   "cell_type": "code",
   "execution_count": 19,
   "metadata": {},
   "outputs": [
    {
     "name": "stdout",
     "output_type": "stream",
     "text": [
      "Group location stats:\n",
      "New York-NY         6555\n",
      "San Francisco-CA    3775\n",
      "Los Angeles-CA      2999\n",
      "Chicago-IL          2483\n",
      "San Diego-CA        2299\n",
      "Name: group_location, dtype: int64\n"
     ]
    }
   ],
   "source": [
    "print('Group location stats:')\n",
    "print(select_groups_df['group_location'].value_counts())"
   ]
  },
  {
   "cell_type": "code",
   "execution_count": 20,
   "metadata": {},
   "outputs": [
    {
     "name": "stdout",
     "output_type": "stream",
     "text": [
      "Number of unique categories: 33\n",
      "Groups category stats:\n"
     ]
    },
    {
     "data": {
      "text/plain": [
       "count    18111.000000\n",
       "mean        19.162498\n",
       "std         12.342277\n",
       "min          1.000000\n",
       "25%          6.000000\n",
       "50%         21.000000\n",
       "75%         32.000000\n",
       "max         36.000000\n",
       "Name: category.id, dtype: float64"
      ]
     },
     "execution_count": 20,
     "metadata": {},
     "output_type": "execute_result"
    }
   ],
   "source": [
    "print('Number of unique categories:', select_groups_df['category.id'].nunique())\n",
    "print('Groups category stats:') \n",
    "select_groups_df['category.id'].describe()"
   ]
  },
  {
   "cell_type": "code",
   "execution_count": 21,
   "metadata": {},
   "outputs": [
    {
     "data": {
      "text/plain": [
       "count    18111.000000\n",
       "mean        40.486445\n",
       "std         38.407091\n",
       "min          1.000000\n",
       "25%         11.000000\n",
       "50%         27.000000\n",
       "75%         60.000000\n",
       "max        186.000000\n",
       "Name: group_age_months, dtype: float64"
      ]
     },
     "execution_count": 21,
     "metadata": {},
     "output_type": "execute_result"
    }
   ],
   "source": [
    "#find age of group from today in months\n",
    "select_groups_df['group_age_months'] = \\\n",
    "                        ((date_today.year - \n",
    "                          select_groups_df['group_created_date'].dt.year) * 12 +\n",
    "                         (date_today.month - \n",
    "                          select_groups_df['group_created_date'].dt.month)\n",
    "                        )\n",
    "select_groups_df.loc[select_groups_df['group_age_months']==0, 'group_age_months'] = 0.5 \n",
    "select_groups_df['log_group_age_months'] = (select_groups_df['group_age_months']\n",
    "                                            .apply(lambda x : np.log10(x) if x>0 else 0))\n",
    "select_groups_df['group_age_months'].describe()"
   ]
  },
  {
   "cell_type": "code",
   "execution_count": 22,
   "metadata": {},
   "outputs": [
    {
     "name": "stdout",
     "output_type": "stream",
     "text": [
      "Percent of groups with rating 0 :33.10%\n",
      "Percent of groups with rating 5 :21.13%\n",
      "Group rating stats:\n"
     ]
    },
    {
     "data": {
      "text/plain": [
       "count    18111.000000\n",
       "mean         3.170311\n",
       "std          2.257647\n",
       "min          0.000000\n",
       "25%          0.000000\n",
       "50%          4.670000\n",
       "75%          4.940000\n",
       "max          5.000000\n",
       "Name: group_rating, dtype: float64"
      ]
     },
     "execution_count": 22,
     "metadata": {},
     "output_type": "execute_result"
    }
   ],
   "source": [
    "print('Percent of groups with rating 0 :{:.2f}%'.format(100*sum(select_groups_df['group_rating']==0)/\n",
    "                                                       len(select_groups_df)))\n",
    "print('Percent of groups with rating 5 :{:.2f}%'.format(100*sum(select_groups_df['group_rating']==5)/\n",
    "                                                       len(select_groups_df)))\n",
    "print('Group rating stats:')\n",
    "select_groups_df['group_rating'].describe()"
   ]
  },
  {
   "cell_type": "code",
   "execution_count": 23,
   "metadata": {},
   "outputs": [
    {
     "name": "stdout",
     "output_type": "stream",
     "text": [
      "Group member count stats:\n"
     ]
    },
    {
     "data": {
      "text/plain": [
       "count    18111.000000\n",
       "mean       734.303793\n",
       "std       1604.050585\n",
       "min          6.000000\n",
       "25%         79.000000\n",
       "50%        242.000000\n",
       "75%        721.000000\n",
       "max      41861.000000\n",
       "Name: group_member_count, dtype: float64"
      ]
     },
     "execution_count": 23,
     "metadata": {},
     "output_type": "execute_result"
    }
   ],
   "source": [
    "select_groups_df['log_group_mem_cnt'] = (select_groups_df['group_member_count']\n",
    "                                          .apply(lambda x : np.log10(x) if x>0 else 0))\n",
    "\n",
    "print('Group member count stats:')\n",
    "select_groups_df['group_member_count'].describe()"
   ]
  },
  {
   "cell_type": "code",
   "execution_count": 24,
   "metadata": {},
   "outputs": [
    {
     "name": "stdout",
     "output_type": "stream",
     "text": [
      "Group join mode stats:\n",
      "open        16361\n",
      "approval     1744\n",
      "closed          6\n",
      "Name: join_mode, dtype: int64\n"
     ]
    }
   ],
   "source": [
    "print('Group join mode stats:')\n",
    "print(select_groups_df['join_mode'].value_counts())"
   ]
  },
  {
   "cell_type": "code",
   "execution_count": 25,
   "metadata": {},
   "outputs": [
    {
     "name": "stdout",
     "output_type": "stream",
     "text": [
      "Group visibility stats:\n"
     ]
    },
    {
     "data": {
      "text/plain": [
       "public            18109\n",
       "public_limited        2\n",
       "Name: visibility, dtype: int64"
      ]
     },
     "execution_count": 25,
     "metadata": {},
     "output_type": "execute_result"
    }
   ],
   "source": [
    "print('Group visibility stats:')\n",
    "select_groups_df['visibility'].value_counts()"
   ]
  },
  {
   "cell_type": "code",
   "execution_count": 26,
   "metadata": {},
   "outputs": [
    {
     "data": {
      "text/plain": [
       "False    13751\n",
       "True      4360\n",
       "Name: has_sponsors, dtype: int64"
      ]
     },
     "execution_count": 26,
     "metadata": {},
     "output_type": "execute_result"
    }
   ],
   "source": [
    "# check if group has sponsors\n",
    "select_groups_df['has_sponsors'] = (select_groups_df['sponsors']\n",
    "                                    .apply(lambda text: False if text=='[]' else True)\n",
    "                                    .copy())\n",
    "select_groups_df['has_sponsors'].value_counts()"
   ]
  },
  {
   "cell_type": "code",
   "execution_count": 27,
   "metadata": {},
   "outputs": [
    {
     "name": "stdout",
     "output_type": "stream",
     "text": [
      "Number of groups with no topics:0/18111\n",
      "Percent of groups with no topics:0.00%\n"
     ]
    }
   ],
   "source": [
    "# extract the list of topic names and ids for each group\n",
    "select_groups_df['group_topic_names'] = select_groups_df['topics'].copy().apply(parse_topics, args=('name',))\n",
    "select_groups_df['group_topic_ids']   = select_groups_df['topics'].copy().apply(parse_topics, args=('id',))\n",
    "select_groups_df['group_topic_cnt']   = select_groups_df['group_topic_ids'].apply(len)\n",
    "select_groups_df.drop(['topics'], axis=1, inplace=True)\n",
    "\n",
    "#check which groups have no topics\n",
    "print('Number of groups with no topics:{}/{}'.format(\n",
    "      sum(select_groups_df['group_topic_cnt']<1),len(select_groups_df)))\n",
    "print('Percent of groups with no topics:{:.2f}%'.format(\n",
    "      100*sum(select_groups_df['group_topic_cnt']<1)/len(select_groups_df)))"
   ]
  },
  {
   "cell_type": "code",
   "execution_count": 28,
   "metadata": {},
   "outputs": [
    {
     "data": {
      "text/plain": [
       "count    17919.000000\n",
       "mean       218.745019\n",
       "std        364.151540\n",
       "min          0.000000\n",
       "25%         11.000000\n",
       "50%         56.000000\n",
       "75%        263.000000\n",
       "max       4383.000000\n",
       "Name: group_last_event_days, dtype: float64"
      ]
     },
     "execution_count": 28,
     "metadata": {},
     "output_type": "execute_result"
    }
   ],
   "source": [
    "#update the last event with next event date if next event is past today\n",
    "def update_last_time(etimes):\n",
    "    last_event, next_event = etimes\n",
    "    if pd.isnull(next_event):\n",
    "        return last_event\n",
    "    elif (next_event>date_today):\n",
    "        return last_event\n",
    "    else:\n",
    "        return next_event\n",
    "\n",
    "select_groups_df['last_event_time_mod'] = (select_groups_df[['last_event_time','next_event_time']]\n",
    "                                           .apply(update_last_time,\n",
    "                                                  axis=1)\n",
    "                                          )\n",
    "#find days to last event from today\n",
    "select_groups_df['group_last_event_days'] = ((date_today - select_groups_df['last_event_time_mod'])\n",
    "                                             .dt.days)\n",
    "select_groups_df['group_last_event_days'].describe()"
   ]
  },
  {
   "cell_type": "code",
   "execution_count": 29,
   "metadata": {},
   "outputs": [
    {
     "data": {
      "text/html": [
       "<div>\n",
       "<style>\n",
       "    .dataframe thead tr:only-child th {\n",
       "        text-align: right;\n",
       "    }\n",
       "\n",
       "    .dataframe thead th {\n",
       "        text-align: left;\n",
       "    }\n",
       "\n",
       "    .dataframe tbody tr th {\n",
       "        vertical-align: top;\n",
       "    }\n",
       "</style>\n",
       "<table border=\"1\" class=\"dataframe\">\n",
       "  <thead>\n",
       "    <tr style=\"text-align: right;\">\n",
       "      <th></th>\n",
       "      <th>yes_rsvp_count_sum</th>\n",
       "      <th>yes_rsvp_count_mean</th>\n",
       "      <th>maybe_rsvp_count_sum</th>\n",
       "      <th>maybe_rsvp_count_mean</th>\n",
       "      <th>past_event_count</th>\n",
       "      <th>event_most_recent</th>\n",
       "      <th>events_mean_freq</th>\n",
       "      <th>all_event_count</th>\n",
       "      <th>group_event1_age_days</th>\n",
       "      <th>group_eventN_age_days</th>\n",
       "    </tr>\n",
       "  </thead>\n",
       "  <tbody>\n",
       "    <tr>\n",
       "      <th>count</th>\n",
       "      <td>18111.000000</td>\n",
       "      <td>18111.000000</td>\n",
       "      <td>18111.000000</td>\n",
       "      <td>18111.000000</td>\n",
       "      <td>18111.000000</td>\n",
       "      <td>18066.000000</td>\n",
       "      <td>15674.000000</td>\n",
       "      <td>18111.000000</td>\n",
       "      <td>18111.000000</td>\n",
       "      <td>18111.000000</td>\n",
       "    </tr>\n",
       "    <tr>\n",
       "      <th>mean</th>\n",
       "      <td>1332.723649</td>\n",
       "      <td>16.159250</td>\n",
       "      <td>26.855116</td>\n",
       "      <td>0.111729</td>\n",
       "      <td>98.190105</td>\n",
       "      <td>223.879055</td>\n",
       "      <td>48.659117</td>\n",
       "      <td>111.816299</td>\n",
       "      <td>1172.978135</td>\n",
       "      <td>141.119817</td>\n",
       "    </tr>\n",
       "    <tr>\n",
       "      <th>std</th>\n",
       "      <td>5043.697608</td>\n",
       "      <td>27.647091</td>\n",
       "      <td>193.911367</td>\n",
       "      <td>0.632504</td>\n",
       "      <td>326.746129</td>\n",
       "      <td>381.129988</td>\n",
       "      <td>81.154382</td>\n",
       "      <td>409.589872</td>\n",
       "      <td>1151.019860</td>\n",
       "      <td>470.031969</td>\n",
       "    </tr>\n",
       "    <tr>\n",
       "      <th>min</th>\n",
       "      <td>0.000000</td>\n",
       "      <td>0.000000</td>\n",
       "      <td>0.000000</td>\n",
       "      <td>0.000000</td>\n",
       "      <td>0.000000</td>\n",
       "      <td>0.000000</td>\n",
       "      <td>0.000000</td>\n",
       "      <td>1.000000</td>\n",
       "      <td>-321.000000</td>\n",
       "      <td>-14713.000000</td>\n",
       "    </tr>\n",
       "    <tr>\n",
       "      <th>25%</th>\n",
       "      <td>24.000000</td>\n",
       "      <td>2.889451</td>\n",
       "      <td>0.000000</td>\n",
       "      <td>0.000000</td>\n",
       "      <td>3.000000</td>\n",
       "      <td>9.000000</td>\n",
       "      <td>10.000000</td>\n",
       "      <td>4.000000</td>\n",
       "      <td>270.000000</td>\n",
       "      <td>-27.000000</td>\n",
       "    </tr>\n",
       "    <tr>\n",
       "      <th>50%</th>\n",
       "      <td>123.000000</td>\n",
       "      <td>6.972973</td>\n",
       "      <td>0.000000</td>\n",
       "      <td>0.000000</td>\n",
       "      <td>13.000000</td>\n",
       "      <td>54.000000</td>\n",
       "      <td>27.000000</td>\n",
       "      <td>17.000000</td>\n",
       "      <td>771.000000</td>\n",
       "      <td>41.000000</td>\n",
       "    </tr>\n",
       "    <tr>\n",
       "      <th>75%</th>\n",
       "      <td>671.000000</td>\n",
       "      <td>17.000000</td>\n",
       "      <td>0.000000</td>\n",
       "      <td>0.000000</td>\n",
       "      <td>64.000000</td>\n",
       "      <td>267.000000</td>\n",
       "      <td>54.000000</td>\n",
       "      <td>77.000000</td>\n",
       "      <td>1768.000000</td>\n",
       "      <td>260.000000</td>\n",
       "    </tr>\n",
       "    <tr>\n",
       "      <th>max</th>\n",
       "      <td>133246.000000</td>\n",
       "      <td>674.285714</td>\n",
       "      <td>7906.000000</td>\n",
       "      <td>19.712500</td>\n",
       "      <td>10024.000000</td>\n",
       "      <td>4383.000000</td>\n",
       "      <td>1693.000000</td>\n",
       "      <td>26960.000000</td>\n",
       "      <td>5770.000000</td>\n",
       "      <td>4383.000000</td>\n",
       "    </tr>\n",
       "  </tbody>\n",
       "</table>\n",
       "</div>"
      ],
      "text/plain": [
       "       yes_rsvp_count_sum  yes_rsvp_count_mean  maybe_rsvp_count_sum  \\\n",
       "count        18111.000000         18111.000000          18111.000000   \n",
       "mean          1332.723649            16.159250             26.855116   \n",
       "std           5043.697608            27.647091            193.911367   \n",
       "min              0.000000             0.000000              0.000000   \n",
       "25%             24.000000             2.889451              0.000000   \n",
       "50%            123.000000             6.972973              0.000000   \n",
       "75%            671.000000            17.000000              0.000000   \n",
       "max         133246.000000           674.285714           7906.000000   \n",
       "\n",
       "       maybe_rsvp_count_mean  past_event_count  event_most_recent  \\\n",
       "count           18111.000000      18111.000000       18066.000000   \n",
       "mean                0.111729         98.190105         223.879055   \n",
       "std                 0.632504        326.746129         381.129988   \n",
       "min                 0.000000          0.000000           0.000000   \n",
       "25%                 0.000000          3.000000           9.000000   \n",
       "50%                 0.000000         13.000000          54.000000   \n",
       "75%                 0.000000         64.000000         267.000000   \n",
       "max                19.712500      10024.000000        4383.000000   \n",
       "\n",
       "       events_mean_freq  all_event_count  group_event1_age_days  \\\n",
       "count      15674.000000     18111.000000           18111.000000   \n",
       "mean          48.659117       111.816299            1172.978135   \n",
       "std           81.154382       409.589872            1151.019860   \n",
       "min            0.000000         1.000000            -321.000000   \n",
       "25%           10.000000         4.000000             270.000000   \n",
       "50%           27.000000        17.000000             771.000000   \n",
       "75%           54.000000        77.000000            1768.000000   \n",
       "max         1693.000000     26960.000000            5770.000000   \n",
       "\n",
       "       group_eventN_age_days  \n",
       "count           18111.000000  \n",
       "mean              141.119817  \n",
       "std               470.031969  \n",
       "min            -14713.000000  \n",
       "25%               -27.000000  \n",
       "50%                41.000000  \n",
       "75%               260.000000  \n",
       "max              4383.000000  "
      ]
     },
     "execution_count": 29,
     "metadata": {},
     "output_type": "execute_result"
    }
   ],
   "source": [
    "events_group_df.describe()"
   ]
  },
  {
   "cell_type": "code",
   "execution_count": 30,
   "metadata": {},
   "outputs": [],
   "source": [
    "#Merge events with groups dataframe\n",
    "select_groups_df = (select_groups_df.merge( events_group_df, how='left',\n",
    "                                            left_on='group_id', right_on='group_id')\n",
    "                   )\n",
    "select_groups_df.drop(['event_time_min','event_time_max'], axis=1, inplace=True)"
   ]
  },
  {
   "cell_type": "code",
   "execution_count": 31,
   "metadata": {},
   "outputs": [
    {
     "name": "stdout",
     "output_type": "stream",
     "text": [
      "Selected Groups dataframe memory usage: 55.08 MB\n"
     ]
    }
   ],
   "source": [
    "print('Selected Groups dataframe memory usage: {}'\n",
    "      .format(mem_usage(select_groups_df)))"
   ]
  },
  {
   "cell_type": "code",
   "execution_count": 32,
   "metadata": {},
   "outputs": [
    {
     "name": "stdout",
     "output_type": "stream",
     "text": [
      "Selected Groups dataframe optimized memory usage: 51.29 MB\n",
      "<class 'pandas.core.frame.DataFrame'>\n",
      "Int64Index: 18111 entries, 0 to 18110\n",
      "Data columns (total 53 columns):\n",
      "category.id                   18111 non-null category\n",
      "category.name                 18111 non-null object\n",
      "category.shortname            18111 non-null object\n",
      "city                          18111 non-null object\n",
      "contributions.enabled         17563 non-null object\n",
      "country                       18111 non-null object\n",
      "group_created_date            18111 non-null datetime64[ns]\n",
      "description                   18092 non-null object\n",
      "group_id                      18111 non-null category\n",
      "join_info.photo_req           18111 non-null int64\n",
      "join_info.questions_req       18111 non-null int64\n",
      "join_mode                     18111 non-null category\n",
      "last_event.id                 17743 non-null object\n",
      "last_event.name               17743 non-null object\n",
      "last_event.yes_rsvp_count     17743 non-null float32\n",
      "lat                           18111 non-null float32\n",
      "lon                           18111 non-null float32\n",
      "group_member_count            18111 non-null int64\n",
      "membership_dues.required      78 non-null float32\n",
      "membership_dues.trial_days    73 non-null float32\n",
      "group_name                    18111 non-null object\n",
      "next_event.id                 7094 non-null object\n",
      "next_event.name               7094 non-null object\n",
      "next_event.yes_rsvp_count     7094 non-null float32\n",
      "organizer_id                  18111 non-null category\n",
      "group_rating                  18111 non-null float32\n",
      "sponsors                      18111 non-null object\n",
      "state                         18111 non-null object\n",
      "urlname                       18111 non-null object\n",
      "visibility                    18111 non-null category\n",
      "who                           18110 non-null object\n",
      "last_event_time               17743 non-null datetime64[ns]\n",
      "next_event_time               7094 non-null datetime64[ns]\n",
      "group_location                18111 non-null category\n",
      "group_age_months              18111 non-null float32\n",
      "log_group_age_months          18111 non-null float32\n",
      "log_group_mem_cnt             18111 non-null float32\n",
      "has_sponsors                  18111 non-null bool\n",
      "group_topic_names             18111 non-null object\n",
      "group_topic_ids               18111 non-null object\n",
      "group_topic_cnt               18111 non-null int64\n",
      "last_event_time_mod           17919 non-null datetime64[ns]\n",
      "group_last_event_days         17919 non-null float32\n",
      "yes_rsvp_count_sum            18111 non-null float32\n",
      "yes_rsvp_count_mean           18111 non-null float32\n",
      "maybe_rsvp_count_sum          18111 non-null float32\n",
      "maybe_rsvp_count_mean         18111 non-null float32\n",
      "past_event_count              18111 non-null int64\n",
      "event_most_recent             18066 non-null float32\n",
      "events_mean_freq              15674 non-null float32\n",
      "all_event_count               18111 non-null int64\n",
      "group_event1_age_days         18111 non-null int64\n",
      "group_eventN_age_days         18111 non-null int64\n",
      "dtypes: bool(1), category(6), datetime64[ns](4), float32(17), int64(8), object(17)\n",
      "memory usage: 7.0+ MB\n"
     ]
    }
   ],
   "source": [
    "category_cols = ['group_id', 'organizer_id', 'category.id', 'join_mode', 'visibility', 'group_location']\n",
    "select_groups_df = change_dtype(select_groups_df, category_cols, verbose = False)\n",
    "\n",
    "print('Selected Groups dataframe optimized memory usage: {}'\n",
    "      .format(mem_usage(select_groups_df)))\n",
    "select_groups_df.info()"
   ]
  },
  {
   "cell_type": "markdown",
   "metadata": {},
   "source": [
    "## Add/Analyze select organizer dataframe features"
   ]
  },
  {
   "cell_type": "code",
   "execution_count": 33,
   "metadata": {},
   "outputs": [
    {
     "name": "stdout",
     "output_type": "stream",
     "text": [
      "USA       13466\n",
      "notUSA      384\n",
      "Name: organizer_country, dtype: int64\n"
     ]
    }
   ],
   "source": [
    "# merge city and state fields when country = us\n",
    "def getOrganizerCountry(loc):\n",
    "    if (loc is not np.nan):\n",
    "        if loc.lower()=='us':\n",
    "            return 'USA'\n",
    "        else:\n",
    "            return 'notUSA'\n",
    "    else:\n",
    "        return 'unknown'\n",
    "    \n",
    "select_organizers_df['organizer_country'] = (select_organizers_df['country'].copy()\n",
    "                                               .apply(getOrganizerCountry))\n",
    "print(select_organizers_df['organizer_country'].value_counts())"
   ]
  },
  {
   "cell_type": "code",
   "execution_count": 34,
   "metadata": {},
   "outputs": [
    {
     "name": "stdout",
     "output_type": "stream",
     "text": [
      "Number of organizers with no topics:3289/13850\n",
      "Percent of organizers with no topics: 23.747292418772563\n"
     ]
    }
   ],
   "source": [
    "# extract the list of topic names and ids for each organizer\n",
    "select_organizers_df['organizer_topic_names'] = (select_organizers_df['topics']\n",
    "                                                 .copy()\n",
    "                                                 .apply(parse_topics, args=('name',)))\n",
    "select_organizers_df['organizer_topic_ids']   = (select_organizers_df['topics']\n",
    "                                                 .copy()\n",
    "                                                 .apply(parse_topics, args=('id',)))\n",
    "select_organizers_df['organizer_topic_cnt']   = (select_organizers_df['organizer_topic_ids']\n",
    "                                                 .apply(len))\n",
    "\n",
    "select_organizers_df.drop(['topics'], axis=1, inplace=True)\n",
    "\n",
    "#check which organizers have no topics\n",
    "print('Number of organizers with no topics:{}/{}'.format(\n",
    "      sum(select_organizers_df['organizer_topic_cnt']<1),len(select_organizers_df)))\n",
    "print('Percent of organizers with no topics:',\n",
    "      100*sum(select_organizers_df['organizer_topic_cnt']<1)/len(select_organizers_df))"
   ]
  },
  {
   "cell_type": "code",
   "execution_count": 35,
   "metadata": {},
   "outputs": [
    {
     "data": {
      "text/plain": [
       "count    13850.000000\n",
       "mean        63.459567\n",
       "std         42.401767\n",
       "min          1.000000\n",
       "25%         27.000000\n",
       "50%         59.000000\n",
       "75%         94.000000\n",
       "max        190.000000\n",
       "Name: membership_age_months, dtype: float64"
      ]
     },
     "execution_count": 35,
     "metadata": {},
     "output_type": "execute_result"
    }
   ],
   "source": [
    "#find organizer membership age from today in months\n",
    "select_organizers_df['membership_age_months'] = \\\n",
    "                        ((date_today.year - \n",
    "                          select_organizers_df['meetup_joined_date'].dt.year) * 12 +\n",
    "                         (date_today.month - \n",
    "                          select_organizers_df['meetup_joined_date'].dt.month)\n",
    "                        )\n",
    "select_organizers_df.loc[select_organizers_df['membership_age_months']==0, 'membership_age_months'] = 0.5 \n",
    "\n",
    "select_organizers_df['log_membership_age_months'] = (select_organizers_df['membership_age_months']\n",
    "                                          .apply(lambda x : np.log10(x) if x>0 else 0))\n",
    "\n",
    "select_organizers_df['membership_age_months'].describe()"
   ]
  },
  {
   "cell_type": "code",
   "execution_count": 36,
   "metadata": {},
   "outputs": [
    {
     "data": {
      "text/plain": [
       "count    13850.000000\n",
       "mean        64.535884\n",
       "std        142.760374\n",
       "min          4.000000\n",
       "25%         10.000000\n",
       "50%         13.000000\n",
       "75%         46.000000\n",
       "max       2309.000000\n",
       "Name: last_visit_days, dtype: float64"
      ]
     },
     "execution_count": 36,
     "metadata": {},
     "output_type": "execute_result"
    }
   ],
   "source": [
    "#find organizer's last visit from today\n",
    "select_organizers_df['last_visit_days'] = ((date_today -\n",
    "                                           select_organizers_df['most_recent_visit_date'])\n",
    "                                           .dt.days)\n",
    "select_organizers_df['log_last_visit_days'] = (select_organizers_df['last_visit_days']\n",
    "                                          .apply(lambda x : np.log10(x) if x>0 else 0))\n",
    "\n",
    "select_organizers_df['last_visit_days'].describe()"
   ]
  },
  {
   "cell_type": "code",
   "execution_count": 37,
   "metadata": {},
   "outputs": [
    {
     "name": "stdout",
     "output_type": "stream",
     "text": [
      "Organizer's messaging preference:\n"
     ]
    },
    {
     "data": {
      "text/plain": [
       "all_members    11449\n",
       "orgs_only       1580\n",
       "groups_only      821\n",
       "Name: messaging_pref, dtype: int64"
      ]
     },
     "execution_count": 37,
     "metadata": {},
     "output_type": "execute_result"
    }
   ],
   "source": [
    "print(\"Organizer's messaging preference:\")\n",
    "select_organizers_df['messaging_pref'].value_counts()"
   ]
  },
  {
   "cell_type": "code",
   "execution_count": 38,
   "metadata": {},
   "outputs": [
    {
     "name": "stdout",
     "output_type": "stream",
     "text": [
      "Number of active memberships of organizers:\n"
     ]
    },
    {
     "data": {
      "text/plain": [
       "count    13850.000000\n",
       "mean        15.424116\n",
       "std         32.075099\n",
       "min          0.000000\n",
       "25%          1.000000\n",
       "50%          6.000000\n",
       "75%         18.000000\n",
       "max       1094.000000\n",
       "Name: num_active_membership, dtype: float64"
      ]
     },
     "execution_count": 38,
     "metadata": {},
     "output_type": "execute_result"
    }
   ],
   "source": [
    "select_organizers_df['num_active_membership'] = select_organizers_df['num_active_membership'].astype(int)\n",
    "#q95 = np.percentile(select_organizers_df['num_active_membership'],95)\n",
    "\n",
    "#select_organizers_df.loc[select_organizers_df['num_active_membership']>q95,'num_active_membership'] = q95+1\n",
    "select_organizers_df['log_num_active_membership'] = (select_organizers_df['num_active_membership']\n",
    "                                          .apply(lambda x : np.log10(x) if x>0 else 0))\n",
    "\n",
    "print('Number of active memberships of organizers:')\n",
    "select_organizers_df['num_active_membership'].describe()"
   ]
  },
  {
   "cell_type": "code",
   "execution_count": 39,
   "metadata": {},
   "outputs": [
    {
     "data": {
      "text/html": [
       "<div>\n",
       "<style>\n",
       "    .dataframe thead tr:only-child th {\n",
       "        text-align: right;\n",
       "    }\n",
       "\n",
       "    .dataframe thead th {\n",
       "        text-align: left;\n",
       "    }\n",
       "\n",
       "    .dataframe tbody tr th {\n",
       "        vertical-align: top;\n",
       "    }\n",
       "</style>\n",
       "<table border=\"1\" class=\"dataframe\">\n",
       "  <thead>\n",
       "    <tr style=\"text-align: right;\">\n",
       "      <th></th>\n",
       "      <th>organizer_grp1_age_days</th>\n",
       "      <th>organizer_grpN_age_days</th>\n",
       "      <th>num_groups</th>\n",
       "    </tr>\n",
       "  </thead>\n",
       "  <tbody>\n",
       "    <tr>\n",
       "      <th>count</th>\n",
       "      <td>13850.000000</td>\n",
       "      <td>13850.000000</td>\n",
       "      <td>13850.000000</td>\n",
       "    </tr>\n",
       "    <tr>\n",
       "      <th>mean</th>\n",
       "      <td>1231.207798</td>\n",
       "      <td>1063.010614</td>\n",
       "      <td>1.307653</td>\n",
       "    </tr>\n",
       "    <tr>\n",
       "      <th>std</th>\n",
       "      <td>1195.610335</td>\n",
       "      <td>1067.458539</td>\n",
       "      <td>0.704221</td>\n",
       "    </tr>\n",
       "    <tr>\n",
       "      <th>min</th>\n",
       "      <td>13.000000</td>\n",
       "      <td>13.000000</td>\n",
       "      <td>1.000000</td>\n",
       "    </tr>\n",
       "    <tr>\n",
       "      <th>25%</th>\n",
       "      <td>294.000000</td>\n",
       "      <td>254.000000</td>\n",
       "      <td>1.000000</td>\n",
       "    </tr>\n",
       "    <tr>\n",
       "      <th>50%</th>\n",
       "      <td>811.000000</td>\n",
       "      <td>696.000000</td>\n",
       "      <td>1.000000</td>\n",
       "    </tr>\n",
       "    <tr>\n",
       "      <th>75%</th>\n",
       "      <td>1847.000000</td>\n",
       "      <td>1535.750000</td>\n",
       "      <td>1.000000</td>\n",
       "    </tr>\n",
       "    <tr>\n",
       "      <th>max</th>\n",
       "      <td>5654.000000</td>\n",
       "      <td>5654.000000</td>\n",
       "      <td>14.000000</td>\n",
       "    </tr>\n",
       "  </tbody>\n",
       "</table>\n",
       "</div>"
      ],
      "text/plain": [
       "       organizer_grp1_age_days  organizer_grpN_age_days    num_groups\n",
       "count             13850.000000             13850.000000  13850.000000\n",
       "mean               1231.207798              1063.010614      1.307653\n",
       "std                1195.610335              1067.458539      0.704221\n",
       "min                  13.000000                13.000000      1.000000\n",
       "25%                 294.000000               254.000000      1.000000\n",
       "50%                 811.000000               696.000000      1.000000\n",
       "75%                1847.000000              1535.750000      1.000000\n",
       "max                5654.000000              5654.000000     14.000000"
      ]
     },
     "execution_count": 39,
     "metadata": {},
     "output_type": "execute_result"
    }
   ],
   "source": [
    "# get the first and last group created by each organizer and number of groups\n",
    "organizer_minmaxnum_group = (select_groups_df.groupby(['organizer_id'], sort=False)\n",
    "                              ['group_created_date']\n",
    "                              .agg([np.min, np.max])\n",
    "                              .reset_index())\n",
    "organizer_minmaxnum_group['organizer_grp1_age_days'] = ((date_today -\n",
    "                                                       organizer_minmaxnum_group['amin'])\n",
    "                                                       .dt.days)\n",
    "organizer_minmaxnum_group['organizer_grpN_age_days'] = ((date_today -\n",
    "                                                       organizer_minmaxnum_group['amax'])\n",
    "                                                       .dt.days)\n",
    "organizer_minmaxnum_group = (organizer_minmaxnum_group.merge((select_groups_df.groupby(['organizer_id'])\n",
    "                                                                            ['group_id']\n",
    "                                                                            .agg('nunique')\n",
    "                                                                            .reset_index()),\n",
    "                                                             how='left',\n",
    "                                                             left_on='organizer_id', \n",
    "                                                             right_on='organizer_id'))\n",
    "organizer_minmaxnum_group.rename(columns={'amin':'grp1_created_date',\n",
    "                                          'amax':'grpN_created_date',\n",
    "                                          'group_id':'num_groups'},\n",
    "                                inplace=True)\n",
    "\n",
    "organizer_minmaxnum_group.describe()"
   ]
  },
  {
   "cell_type": "code",
   "execution_count": 40,
   "metadata": {},
   "outputs": [
    {
     "name": "stdout",
     "output_type": "stream",
     "text": [
      "Dimension of merged organizer dataframe: (13850, 25)\n"
     ]
    },
    {
     "data": {
      "text/plain": [
       "400"
      ]
     },
     "execution_count": 40,
     "metadata": {},
     "output_type": "execute_result"
    }
   ],
   "source": [
    "select_organizers_df = (select_organizers_df.merge( organizer_minmaxnum_group, how='left',\n",
    "                                                    left_on='organizer_id', right_on='organizer_id')\n",
    "                       )\n",
    "print('Dimension of merged organizer dataframe:',select_organizers_df.shape)\n",
    "\n",
    "# delete dataframe after merging\n",
    "del organizer_minmaxnum_group\n",
    "gc.collect()"
   ]
  },
  {
   "cell_type": "code",
   "execution_count": 41,
   "metadata": {
    "collapsed": true
   },
   "outputs": [],
   "source": [
    "select_organizers_df['log_grpN_age_days'] = (select_organizers_df['organizer_grpN_age_days']\n",
    "                                          .apply(lambda x : np.log10(x) if x>0 else 0))"
   ]
  },
  {
   "cell_type": "code",
   "execution_count": 42,
   "metadata": {},
   "outputs": [
    {
     "name": "stdout",
     "output_type": "stream",
     "text": [
      "Selected Organizers dataframe memory usage: 12.66 MB\n"
     ]
    }
   ],
   "source": [
    "print('Selected Organizers dataframe memory usage: {}'\n",
    "      .format(mem_usage(select_organizers_df)))"
   ]
  },
  {
   "cell_type": "code",
   "execution_count": 43,
   "metadata": {},
   "outputs": [
    {
     "name": "stdout",
     "output_type": "stream",
     "text": [
      "Selected Organizers dataframe optimized memory usage: 11.02 MB\n",
      "<class 'pandas.core.frame.DataFrame'>\n",
      "Int64Index: 13850 entries, 0 to 13849\n",
      "Data columns (total 26 columns):\n",
      "city                         13850 non-null object\n",
      "country                      13850 non-null object\n",
      "organizer_id                 13850 non-null category\n",
      "meetup_joined_date           13850 non-null datetime64[ns]\n",
      "lat                          13850 non-null object\n",
      "lon                          13850 non-null float32\n",
      "num_active_membership        13850 non-null int64\n",
      "messaging_pref               13850 non-null category\n",
      "organizer_name               13850 non-null object\n",
      "state                        13587 non-null object\n",
      "most_recent_visit_date       13850 non-null datetime64[ns]\n",
      "organizer_country            13850 non-null category\n",
      "organizer_topic_names        13850 non-null object\n",
      "organizer_topic_ids          13850 non-null object\n",
      "organizer_topic_cnt          13850 non-null int64\n",
      "membership_age_months        13850 non-null float32\n",
      "log_membership_age_months    13850 non-null float32\n",
      "last_visit_days              13850 non-null int64\n",
      "log_last_visit_days          13850 non-null float32\n",
      "log_num_active_membership    13850 non-null float32\n",
      "grp1_created_date            13850 non-null datetime64[ns]\n",
      "grpN_created_date            13850 non-null datetime64[ns]\n",
      "organizer_grp1_age_days      13850 non-null int64\n",
      "organizer_grpN_age_days      13850 non-null int64\n",
      "num_groups                   13850 non-null int64\n",
      "log_grpN_age_days            13850 non-null float32\n",
      "dtypes: category(3), datetime64[ns](4), float32(6), int64(6), object(7)\n",
      "memory usage: 3.0+ MB\n"
     ]
    }
   ],
   "source": [
    "category_cols = ['organizer_id', 'messaging_pref', 'organizer_country']\n",
    "select_organizers_df = change_dtype(select_organizers_df, category_cols, verbose = False)\n",
    "\n",
    "print('Selected Organizers dataframe optimized memory usage: {}'\n",
    "      .format(mem_usage(select_organizers_df)))\n",
    "\n",
    "select_organizers_df.info()"
   ]
  },
  {
   "cell_type": "markdown",
   "metadata": {},
   "source": [
    "## Save dataframes"
   ]
  },
  {
   "cell_type": "code",
   "execution_count": 44,
   "metadata": {},
   "outputs": [
    {
     "data": {
      "text/plain": [
       "Index(['category.id', 'category.name', 'category.shortname', 'city',\n",
       "       'contributions.enabled', 'country', 'group_created_date', 'description',\n",
       "       'group_id', 'join_info.photo_req', 'join_info.questions_req',\n",
       "       'join_mode', 'last_event.id', 'last_event.name',\n",
       "       'last_event.yes_rsvp_count', 'lat', 'lon', 'group_member_count',\n",
       "       'membership_dues.required', 'membership_dues.trial_days', 'group_name',\n",
       "       'next_event.id', 'next_event.name', 'next_event.yes_rsvp_count',\n",
       "       'organizer_id', 'group_rating', 'sponsors', 'state', 'urlname',\n",
       "       'visibility', 'who', 'last_event_time', 'next_event_time',\n",
       "       'group_location', 'group_age_months', 'log_group_age_months',\n",
       "       'log_group_mem_cnt', 'has_sponsors', 'group_topic_names',\n",
       "       'group_topic_ids', 'group_topic_cnt', 'last_event_time_mod',\n",
       "       'group_last_event_days', 'yes_rsvp_count_sum', 'yes_rsvp_count_mean',\n",
       "       'maybe_rsvp_count_sum', 'maybe_rsvp_count_mean', 'past_event_count',\n",
       "       'event_most_recent', 'events_mean_freq', 'all_event_count',\n",
       "       'group_event1_age_days', 'group_eventN_age_days'],\n",
       "      dtype='object')"
      ]
     },
     "execution_count": 44,
     "metadata": {},
     "output_type": "execute_result"
    }
   ],
   "source": [
    "select_groups_df.columns"
   ]
  },
  {
   "cell_type": "code",
   "execution_count": 45,
   "metadata": {
    "collapsed": true
   },
   "outputs": [],
   "source": [
    "group_select_cols = ['category.id', 'category.name',\n",
    "                     'group_id', 'group_name',\n",
    "                     'organizer_id', \n",
    "                     'join_mode', \n",
    "                     'group_member_count', 'log_group_mem_cnt',\n",
    "                     'group_rating', \n",
    "                     'visibility', \n",
    "                     'group_location', \n",
    "                     'group_age_months', 'log_group_age_months',\n",
    "                     'has_sponsors',\n",
    "                     'group_topic_names', 'group_topic_ids', 'group_topic_cnt',\n",
    "                     'group_last_event_days',\n",
    "                     'yes_rsvp_count_mean', 'maybe_rsvp_count_mean',\n",
    "                     'event_most_recent', 'events_mean_freq', \n",
    "                     'past_event_count', 'all_event_count',\n",
    "                     'group_event1_age_days', 'group_eventN_age_days']"
   ]
  },
  {
   "cell_type": "code",
   "execution_count": 55,
   "metadata": {},
   "outputs": [
    {
     "name": "stdout",
     "output_type": "stream",
     "text": [
      "Columns with nulls: ['group_last_event_days', 'event_most_recent', 'events_mean_freq']\n"
     ]
    },
    {
     "data": {
      "text/html": [
       "<div>\n",
       "<style>\n",
       "    .dataframe thead tr:only-child th {\n",
       "        text-align: right;\n",
       "    }\n",
       "\n",
       "    .dataframe thead th {\n",
       "        text-align: left;\n",
       "    }\n",
       "\n",
       "    .dataframe tbody tr th {\n",
       "        vertical-align: top;\n",
       "    }\n",
       "</style>\n",
       "<table border=\"1\" class=\"dataframe\">\n",
       "  <thead>\n",
       "    <tr style=\"text-align: right;\">\n",
       "      <th></th>\n",
       "      <th>category.id</th>\n",
       "      <th>category.name</th>\n",
       "      <th>group_id</th>\n",
       "      <th>group_name</th>\n",
       "      <th>organizer_id</th>\n",
       "      <th>join_mode</th>\n",
       "      <th>group_member_count</th>\n",
       "      <th>log_group_mem_cnt</th>\n",
       "      <th>group_rating</th>\n",
       "      <th>visibility</th>\n",
       "      <th>...</th>\n",
       "      <th>group_topic_cnt</th>\n",
       "      <th>group_last_event_days</th>\n",
       "      <th>yes_rsvp_count_mean</th>\n",
       "      <th>maybe_rsvp_count_mean</th>\n",
       "      <th>event_most_recent</th>\n",
       "      <th>events_mean_freq</th>\n",
       "      <th>past_event_count</th>\n",
       "      <th>all_event_count</th>\n",
       "      <th>group_event1_age_days</th>\n",
       "      <th>group_eventN_age_days</th>\n",
       "    </tr>\n",
       "  </thead>\n",
       "  <tbody>\n",
       "    <tr>\n",
       "      <th>column_type</th>\n",
       "      <td>category</td>\n",
       "      <td>object</td>\n",
       "      <td>category</td>\n",
       "      <td>object</td>\n",
       "      <td>category</td>\n",
       "      <td>category</td>\n",
       "      <td>int64</td>\n",
       "      <td>float32</td>\n",
       "      <td>float32</td>\n",
       "      <td>category</td>\n",
       "      <td>...</td>\n",
       "      <td>int64</td>\n",
       "      <td>float32</td>\n",
       "      <td>float32</td>\n",
       "      <td>float32</td>\n",
       "      <td>float32</td>\n",
       "      <td>float32</td>\n",
       "      <td>int64</td>\n",
       "      <td>int64</td>\n",
       "      <td>int64</td>\n",
       "      <td>int64</td>\n",
       "    </tr>\n",
       "    <tr>\n",
       "      <th>null_count</th>\n",
       "      <td>0</td>\n",
       "      <td>0</td>\n",
       "      <td>0</td>\n",
       "      <td>0</td>\n",
       "      <td>0</td>\n",
       "      <td>0</td>\n",
       "      <td>0</td>\n",
       "      <td>0</td>\n",
       "      <td>0</td>\n",
       "      <td>0</td>\n",
       "      <td>...</td>\n",
       "      <td>0</td>\n",
       "      <td>192</td>\n",
       "      <td>0</td>\n",
       "      <td>0</td>\n",
       "      <td>45</td>\n",
       "      <td>2437</td>\n",
       "      <td>0</td>\n",
       "      <td>0</td>\n",
       "      <td>0</td>\n",
       "      <td>0</td>\n",
       "    </tr>\n",
       "    <tr>\n",
       "      <th>%_null_count</th>\n",
       "      <td>0</td>\n",
       "      <td>0</td>\n",
       "      <td>0</td>\n",
       "      <td>0</td>\n",
       "      <td>0</td>\n",
       "      <td>0</td>\n",
       "      <td>0</td>\n",
       "      <td>0</td>\n",
       "      <td>0</td>\n",
       "      <td>0</td>\n",
       "      <td>...</td>\n",
       "      <td>0</td>\n",
       "      <td>1.06013</td>\n",
       "      <td>0</td>\n",
       "      <td>0</td>\n",
       "      <td>0.248468</td>\n",
       "      <td>13.4559</td>\n",
       "      <td>0</td>\n",
       "      <td>0</td>\n",
       "      <td>0</td>\n",
       "      <td>0</td>\n",
       "    </tr>\n",
       "  </tbody>\n",
       "</table>\n",
       "<p>3 rows × 26 columns</p>\n",
       "</div>"
      ],
      "text/plain": [
       "             category.id category.name  group_id group_name organizer_id  \\\n",
       "column_type     category        object  category     object     category   \n",
       "null_count             0             0         0          0            0   \n",
       "%_null_count           0             0         0          0            0   \n",
       "\n",
       "             join_mode group_member_count log_group_mem_cnt group_rating  \\\n",
       "column_type   category              int64           float32      float32   \n",
       "null_count           0                  0                 0            0   \n",
       "%_null_count         0                  0                 0            0   \n",
       "\n",
       "             visibility          ...          group_topic_cnt  \\\n",
       "column_type    category          ...                    int64   \n",
       "null_count            0          ...                        0   \n",
       "%_null_count          0          ...                        0   \n",
       "\n",
       "             group_last_event_days yes_rsvp_count_mean maybe_rsvp_count_mean  \\\n",
       "column_type                float32             float32               float32   \n",
       "null_count                     192                   0                     0   \n",
       "%_null_count               1.06013                   0                     0   \n",
       "\n",
       "             event_most_recent events_mean_freq past_event_count  \\\n",
       "column_type            float32          float32            int64   \n",
       "null_count                  45             2437                0   \n",
       "%_null_count          0.248468          13.4559                0   \n",
       "\n",
       "             all_event_count group_event1_age_days group_eventN_age_days  \n",
       "column_type            int64                 int64                 int64  \n",
       "null_count                 0                     0                     0  \n",
       "%_null_count               0                     0                     0  \n",
       "\n",
       "[3 rows x 26 columns]"
      ]
     },
     "execution_count": 55,
     "metadata": {},
     "output_type": "execute_result"
    }
   ],
   "source": [
    "# Check if any columns have null values\n",
    "null_check_df = check_nulls(select_groups_df, group_select_cols, verbose = False)\n",
    "print('Columns with nulls:',\n",
    "      null_check_df.columns[~null_check_df.isin([0]).any()].tolist())\n",
    "null_check_df"
   ]
  },
  {
   "cell_type": "code",
   "execution_count": 47,
   "metadata": {},
   "outputs": [
    {
     "data": {
      "text/plain": [
       "(18111, 26)"
      ]
     },
     "execution_count": 47,
     "metadata": {},
     "output_type": "execute_result"
    }
   ],
   "source": [
    "select_groups_df[group_select_cols].shape"
   ]
  },
  {
   "cell_type": "code",
   "execution_count": 48,
   "metadata": {},
   "outputs": [
    {
     "data": {
      "text/html": [
       "<div>\n",
       "<style>\n",
       "    .dataframe thead tr:only-child th {\n",
       "        text-align: right;\n",
       "    }\n",
       "\n",
       "    .dataframe thead th {\n",
       "        text-align: left;\n",
       "    }\n",
       "\n",
       "    .dataframe tbody tr th {\n",
       "        vertical-align: top;\n",
       "    }\n",
       "</style>\n",
       "<table border=\"1\" class=\"dataframe\">\n",
       "  <thead>\n",
       "    <tr style=\"text-align: right;\">\n",
       "      <th></th>\n",
       "      <th>category.id</th>\n",
       "      <th>category.name</th>\n",
       "      <th>group_id</th>\n",
       "      <th>group_name</th>\n",
       "      <th>organizer_id</th>\n",
       "      <th>join_mode</th>\n",
       "      <th>group_member_count</th>\n",
       "      <th>log_group_mem_cnt</th>\n",
       "      <th>group_rating</th>\n",
       "      <th>visibility</th>\n",
       "      <th>...</th>\n",
       "      <th>group_topic_cnt</th>\n",
       "      <th>group_last_event_days</th>\n",
       "      <th>yes_rsvp_count_mean</th>\n",
       "      <th>maybe_rsvp_count_mean</th>\n",
       "      <th>event_most_recent</th>\n",
       "      <th>events_mean_freq</th>\n",
       "      <th>past_event_count</th>\n",
       "      <th>all_event_count</th>\n",
       "      <th>group_event1_age_days</th>\n",
       "      <th>group_eventN_age_days</th>\n",
       "    </tr>\n",
       "  </thead>\n",
       "  <tbody>\n",
       "    <tr>\n",
       "      <th>0</th>\n",
       "      <td>1</td>\n",
       "      <td>fine arts/culture</td>\n",
       "      <td>2657</td>\n",
       "      <td>The LA Acting Meetup Group Sponsor PerformerTr...</td>\n",
       "      <td>294838.0</td>\n",
       "      <td>open</td>\n",
       "      <td>490</td>\n",
       "      <td>2.690196</td>\n",
       "      <td>4.81</td>\n",
       "      <td>public</td>\n",
       "      <td>...</td>\n",
       "      <td>5</td>\n",
       "      <td>355.0</td>\n",
       "      <td>3.212963</td>\n",
       "      <td>0.361111</td>\n",
       "      <td>355.0</td>\n",
       "      <td>21.0</td>\n",
       "      <td>216</td>\n",
       "      <td>216</td>\n",
       "      <td>4939</td>\n",
       "      <td>355</td>\n",
       "    </tr>\n",
       "    <tr>\n",
       "      <th>1</th>\n",
       "      <td>1</td>\n",
       "      <td>fine arts/culture</td>\n",
       "      <td>153363</td>\n",
       "      <td>Hollywood- LA Theatre Meetup Sponsored by Perf...</td>\n",
       "      <td>294838.0</td>\n",
       "      <td>open</td>\n",
       "      <td>323</td>\n",
       "      <td>2.509202</td>\n",
       "      <td>4.93</td>\n",
       "      <td>public</td>\n",
       "      <td>...</td>\n",
       "      <td>6</td>\n",
       "      <td>355.0</td>\n",
       "      <td>1.432558</td>\n",
       "      <td>0.083721</td>\n",
       "      <td>355.0</td>\n",
       "      <td>21.0</td>\n",
       "      <td>215</td>\n",
       "      <td>215</td>\n",
       "      <td>4938</td>\n",
       "      <td>355</td>\n",
       "    </tr>\n",
       "  </tbody>\n",
       "</table>\n",
       "<p>2 rows × 26 columns</p>\n",
       "</div>"
      ],
      "text/plain": [
       "  category.id      category.name group_id  \\\n",
       "0           1  fine arts/culture     2657   \n",
       "1           1  fine arts/culture   153363   \n",
       "\n",
       "                                          group_name organizer_id join_mode  \\\n",
       "0  The LA Acting Meetup Group Sponsor PerformerTr...     294838.0      open   \n",
       "1  Hollywood- LA Theatre Meetup Sponsored by Perf...     294838.0      open   \n",
       "\n",
       "   group_member_count  log_group_mem_cnt  group_rating visibility  \\\n",
       "0                 490           2.690196          4.81     public   \n",
       "1                 323           2.509202          4.93     public   \n",
       "\n",
       "           ...           group_topic_cnt  group_last_event_days  \\\n",
       "0          ...                         5                  355.0   \n",
       "1          ...                         6                  355.0   \n",
       "\n",
       "   yes_rsvp_count_mean  maybe_rsvp_count_mean event_most_recent  \\\n",
       "0             3.212963               0.361111             355.0   \n",
       "1             1.432558               0.083721             355.0   \n",
       "\n",
       "  events_mean_freq  past_event_count  all_event_count  group_event1_age_days  \\\n",
       "0             21.0               216              216                   4939   \n",
       "1             21.0               215              215                   4938   \n",
       "\n",
       "   group_eventN_age_days  \n",
       "0                    355  \n",
       "1                    355  \n",
       "\n",
       "[2 rows x 26 columns]"
      ]
     },
     "execution_count": 48,
     "metadata": {},
     "output_type": "execute_result"
    }
   ],
   "source": [
    "select_groups_df[group_select_cols].head(2)"
   ]
  },
  {
   "cell_type": "code",
   "execution_count": 49,
   "metadata": {
    "collapsed": true
   },
   "outputs": [],
   "source": [
    "select_groups_df.to_csv(data_folder+'groups_select_info_v2.csv', \n",
    "                        columns=group_select_cols, \n",
    "                        index=False)\n",
    "\n",
    "with open(data_folder+'groups_select_info_v2.pkl', \"wb\") as fp:  \n",
    "    pickle.dump(select_groups_df[group_select_cols], fp)"
   ]
  },
  {
   "cell_type": "code",
   "execution_count": 50,
   "metadata": {},
   "outputs": [
    {
     "data": {
      "text/plain": [
       "Index(['city', 'country', 'organizer_id', 'meetup_joined_date', 'lat', 'lon',\n",
       "       'num_active_membership', 'messaging_pref', 'organizer_name', 'state',\n",
       "       'most_recent_visit_date', 'organizer_country', 'organizer_topic_names',\n",
       "       'organizer_topic_ids', 'organizer_topic_cnt', 'membership_age_months',\n",
       "       'log_membership_age_months', 'last_visit_days', 'log_last_visit_days',\n",
       "       'log_num_active_membership', 'grp1_created_date', 'grpN_created_date',\n",
       "       'organizer_grp1_age_days', 'organizer_grpN_age_days', 'num_groups',\n",
       "       'log_grpN_age_days'],\n",
       "      dtype='object')"
      ]
     },
     "execution_count": 50,
     "metadata": {},
     "output_type": "execute_result"
    }
   ],
   "source": [
    "select_organizers_df.columns"
   ]
  },
  {
   "cell_type": "code",
   "execution_count": 56,
   "metadata": {
    "collapsed": true
   },
   "outputs": [],
   "source": [
    "organizer_select_cols = ['organizer_id', \n",
    "                         'num_active_membership', 'log_num_active_membership',\n",
    "                         'messaging_pref',\n",
    "                         'organizer_country', \n",
    "                         'organizer_topic_names', 'organizer_topic_ids', 'organizer_topic_cnt', \n",
    "                         'membership_age_months', 'log_membership_age_months',\n",
    "                         'last_visit_days', 'log_last_visit_days',\n",
    "                         'organizer_grpN_age_days', 'log_grpN_age_days', \n",
    "                         'num_groups']"
   ]
  },
  {
   "cell_type": "code",
   "execution_count": 57,
   "metadata": {},
   "outputs": [
    {
     "name": "stdout",
     "output_type": "stream",
     "text": [
      "Columns with nulls: []\n"
     ]
    },
    {
     "data": {
      "text/html": [
       "<div>\n",
       "<style>\n",
       "    .dataframe thead tr:only-child th {\n",
       "        text-align: right;\n",
       "    }\n",
       "\n",
       "    .dataframe thead th {\n",
       "        text-align: left;\n",
       "    }\n",
       "\n",
       "    .dataframe tbody tr th {\n",
       "        vertical-align: top;\n",
       "    }\n",
       "</style>\n",
       "<table border=\"1\" class=\"dataframe\">\n",
       "  <thead>\n",
       "    <tr style=\"text-align: right;\">\n",
       "      <th></th>\n",
       "      <th>organizer_id</th>\n",
       "      <th>num_active_membership</th>\n",
       "      <th>log_num_active_membership</th>\n",
       "      <th>messaging_pref</th>\n",
       "      <th>organizer_country</th>\n",
       "      <th>organizer_topic_names</th>\n",
       "      <th>organizer_topic_ids</th>\n",
       "      <th>organizer_topic_cnt</th>\n",
       "      <th>membership_age_months</th>\n",
       "      <th>log_membership_age_months</th>\n",
       "      <th>last_visit_days</th>\n",
       "      <th>log_last_visit_days</th>\n",
       "      <th>organizer_grpN_age_days</th>\n",
       "      <th>log_grpN_age_days</th>\n",
       "      <th>num_groups</th>\n",
       "    </tr>\n",
       "  </thead>\n",
       "  <tbody>\n",
       "    <tr>\n",
       "      <th>column_type</th>\n",
       "      <td>category</td>\n",
       "      <td>int64</td>\n",
       "      <td>float32</td>\n",
       "      <td>category</td>\n",
       "      <td>category</td>\n",
       "      <td>object</td>\n",
       "      <td>object</td>\n",
       "      <td>int64</td>\n",
       "      <td>float32</td>\n",
       "      <td>float32</td>\n",
       "      <td>int64</td>\n",
       "      <td>float32</td>\n",
       "      <td>int64</td>\n",
       "      <td>float32</td>\n",
       "      <td>int64</td>\n",
       "    </tr>\n",
       "    <tr>\n",
       "      <th>null_count</th>\n",
       "      <td>0</td>\n",
       "      <td>0</td>\n",
       "      <td>0</td>\n",
       "      <td>0</td>\n",
       "      <td>0</td>\n",
       "      <td>0</td>\n",
       "      <td>0</td>\n",
       "      <td>0</td>\n",
       "      <td>0</td>\n",
       "      <td>0</td>\n",
       "      <td>0</td>\n",
       "      <td>0</td>\n",
       "      <td>0</td>\n",
       "      <td>0</td>\n",
       "      <td>0</td>\n",
       "    </tr>\n",
       "    <tr>\n",
       "      <th>%_null_count</th>\n",
       "      <td>0</td>\n",
       "      <td>0</td>\n",
       "      <td>0</td>\n",
       "      <td>0</td>\n",
       "      <td>0</td>\n",
       "      <td>0</td>\n",
       "      <td>0</td>\n",
       "      <td>0</td>\n",
       "      <td>0</td>\n",
       "      <td>0</td>\n",
       "      <td>0</td>\n",
       "      <td>0</td>\n",
       "      <td>0</td>\n",
       "      <td>0</td>\n",
       "      <td>0</td>\n",
       "    </tr>\n",
       "  </tbody>\n",
       "</table>\n",
       "</div>"
      ],
      "text/plain": [
       "             organizer_id num_active_membership log_num_active_membership  \\\n",
       "column_type      category                 int64                   float32   \n",
       "null_count              0                     0                         0   \n",
       "%_null_count            0                     0                         0   \n",
       "\n",
       "             messaging_pref organizer_country organizer_topic_names  \\\n",
       "column_type        category          category                object   \n",
       "null_count                0                 0                     0   \n",
       "%_null_count              0                 0                     0   \n",
       "\n",
       "             organizer_topic_ids organizer_topic_cnt membership_age_months  \\\n",
       "column_type               object               int64               float32   \n",
       "null_count                     0                   0                     0   \n",
       "%_null_count                   0                   0                     0   \n",
       "\n",
       "             log_membership_age_months last_visit_days log_last_visit_days  \\\n",
       "column_type                    float32           int64             float32   \n",
       "null_count                           0               0                   0   \n",
       "%_null_count                         0               0                   0   \n",
       "\n",
       "             organizer_grpN_age_days log_grpN_age_days num_groups  \n",
       "column_type                    int64           float32      int64  \n",
       "null_count                         0                 0          0  \n",
       "%_null_count                       0                 0          0  "
      ]
     },
     "execution_count": 57,
     "metadata": {},
     "output_type": "execute_result"
    }
   ],
   "source": [
    "# Check if any columns have null values\n",
    "null_check_df = check_nulls(select_organizers_df, organizer_select_cols, verbose = False)\n",
    "print('Columns with nulls:',\n",
    "      null_check_df.columns[~null_check_df.isin([0]).any()].tolist())\n",
    "null_check_df"
   ]
  },
  {
   "cell_type": "code",
   "execution_count": 58,
   "metadata": {},
   "outputs": [
    {
     "data": {
      "text/plain": [
       "(13850, 15)"
      ]
     },
     "execution_count": 58,
     "metadata": {},
     "output_type": "execute_result"
    }
   ],
   "source": [
    "select_organizers_df[organizer_select_cols].shape"
   ]
  },
  {
   "cell_type": "code",
   "execution_count": 59,
   "metadata": {},
   "outputs": [
    {
     "data": {
      "text/html": [
       "<div>\n",
       "<style>\n",
       "    .dataframe thead tr:only-child th {\n",
       "        text-align: right;\n",
       "    }\n",
       "\n",
       "    .dataframe thead th {\n",
       "        text-align: left;\n",
       "    }\n",
       "\n",
       "    .dataframe tbody tr th {\n",
       "        vertical-align: top;\n",
       "    }\n",
       "</style>\n",
       "<table border=\"1\" class=\"dataframe\">\n",
       "  <thead>\n",
       "    <tr style=\"text-align: right;\">\n",
       "      <th></th>\n",
       "      <th>organizer_id</th>\n",
       "      <th>num_active_membership</th>\n",
       "      <th>log_num_active_membership</th>\n",
       "      <th>messaging_pref</th>\n",
       "      <th>organizer_country</th>\n",
       "      <th>organizer_topic_names</th>\n",
       "      <th>organizer_topic_ids</th>\n",
       "      <th>organizer_topic_cnt</th>\n",
       "      <th>membership_age_months</th>\n",
       "      <th>log_membership_age_months</th>\n",
       "      <th>last_visit_days</th>\n",
       "      <th>log_last_visit_days</th>\n",
       "      <th>organizer_grpN_age_days</th>\n",
       "      <th>log_grpN_age_days</th>\n",
       "      <th>num_groups</th>\n",
       "    </tr>\n",
       "  </thead>\n",
       "  <tbody>\n",
       "    <tr>\n",
       "      <th>0</th>\n",
       "      <td>246253340.0</td>\n",
       "      <td>2</td>\n",
       "      <td>0.301030</td>\n",
       "      <td>all_members</td>\n",
       "      <td>USA</td>\n",
       "      <td>[]</td>\n",
       "      <td>[]</td>\n",
       "      <td>0</td>\n",
       "      <td>3.0</td>\n",
       "      <td>0.477121</td>\n",
       "      <td>16</td>\n",
       "      <td>1.20412</td>\n",
       "      <td>29</td>\n",
       "      <td>1.462398</td>\n",
       "      <td>1</td>\n",
       "    </tr>\n",
       "    <tr>\n",
       "      <th>1</th>\n",
       "      <td>6721449.0</td>\n",
       "      <td>86</td>\n",
       "      <td>1.934498</td>\n",
       "      <td>all_members</td>\n",
       "      <td>notUSA</td>\n",
       "      <td>[Drama, Book Club, Women's Book Club]</td>\n",
       "      <td>[21022, 2767, 26397]</td>\n",
       "      <td>3</td>\n",
       "      <td>121.0</td>\n",
       "      <td>2.082785</td>\n",
       "      <td>5</td>\n",
       "      <td>0.69897</td>\n",
       "      <td>184</td>\n",
       "      <td>2.264818</td>\n",
       "      <td>5</td>\n",
       "    </tr>\n",
       "  </tbody>\n",
       "</table>\n",
       "</div>"
      ],
      "text/plain": [
       "  organizer_id  num_active_membership  log_num_active_membership  \\\n",
       "0  246253340.0                      2                   0.301030   \n",
       "1    6721449.0                     86                   1.934498   \n",
       "\n",
       "  messaging_pref organizer_country                  organizer_topic_names  \\\n",
       "0    all_members               USA                                     []   \n",
       "1    all_members            notUSA  [Drama, Book Club, Women's Book Club]   \n",
       "\n",
       "    organizer_topic_ids  organizer_topic_cnt  membership_age_months  \\\n",
       "0                    []                    0                    3.0   \n",
       "1  [21022, 2767, 26397]                    3                  121.0   \n",
       "\n",
       "   log_membership_age_months  last_visit_days  log_last_visit_days  \\\n",
       "0                   0.477121               16              1.20412   \n",
       "1                   2.082785                5              0.69897   \n",
       "\n",
       "   organizer_grpN_age_days  log_grpN_age_days  num_groups  \n",
       "0                       29           1.462398           1  \n",
       "1                      184           2.264818           5  "
      ]
     },
     "execution_count": 59,
     "metadata": {},
     "output_type": "execute_result"
    }
   ],
   "source": [
    "select_organizers_df[organizer_select_cols].head(2)"
   ]
  },
  {
   "cell_type": "code",
   "execution_count": 60,
   "metadata": {
    "collapsed": true
   },
   "outputs": [],
   "source": [
    "select_organizers_df.to_csv(data_folder+'organizers_select_info_v2.csv', \n",
    "                            columns=organizer_select_cols, \n",
    "                            index=False)\n",
    "                         \n",
    "with open(data_folder+'organizers_select_info_v2.pkl', \"wb\") as fp:  \n",
    "    pickle.dump(select_organizers_df[organizer_select_cols], fp)"
   ]
  },
  {
   "cell_type": "code",
   "execution_count": null,
   "metadata": {
    "collapsed": true
   },
   "outputs": [],
   "source": []
  },
  {
   "cell_type": "code",
   "execution_count": null,
   "metadata": {
    "collapsed": true
   },
   "outputs": [],
   "source": []
  }
 ],
 "metadata": {
  "kernelspec": {
   "display_name": "Python 3",
   "language": "python",
   "name": "python3"
  },
  "language_info": {
   "codemirror_mode": {
    "name": "ipython",
    "version": 3
   },
   "file_extension": ".py",
   "mimetype": "text/x-python",
   "name": "python",
   "nbconvert_exporter": "python",
   "pygments_lexer": "ipython3",
   "version": "3.6.4"
  },
  "toc": {
   "nav_menu": {},
   "number_sections": false,
   "sideBar": true,
   "skip_h1_title": false,
   "title_cell": "Table of Contents",
   "title_sidebar": "Contents",
   "toc_cell": false,
   "toc_position": {},
   "toc_section_display": true,
   "toc_window_display": false
  },
  "varInspector": {
   "cols": {
    "lenName": 16,
    "lenType": 16,
    "lenVar": 40
   },
   "kernels_config": {
    "python": {
     "delete_cmd_postfix": "",
     "delete_cmd_prefix": "del ",
     "library": "var_list.py",
     "varRefreshCmd": "print(var_dic_list())"
    },
    "r": {
     "delete_cmd_postfix": ") ",
     "delete_cmd_prefix": "rm(",
     "library": "var_list.r",
     "varRefreshCmd": "cat(var_dic_list()) "
    }
   },
   "types_to_exclude": [
    "module",
    "function",
    "builtin_function_or_method",
    "instance",
    "_Feature"
   ],
   "window_display": false
  }
 },
 "nbformat": 4,
 "nbformat_minor": 2
}
