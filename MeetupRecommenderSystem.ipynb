{
 "cells": [
  {
   "cell_type": "code",
   "execution_count": 1,
   "metadata": {
    "collapsed": true
   },
   "outputs": [],
   "source": [
    "from MeetupHelperFunctions import *\n",
    "\n",
    "import pandas as pd\n",
    "import numpy as np\n",
    "\n",
    "import pickle\n",
    "import time\n",
    "import gc\n",
    "from collections import defaultdict\n",
    "\n",
    "import scipy.sparse as sp\n",
    "from scipy import linalg\n",
    "from sklearn.decomposition import TruncatedSVD\n",
    "\n",
    "from sklearn.feature_extraction.text import CountVectorizer\n",
    "from sklearn.preprocessing import LabelBinarizer, normalize\n",
    "from sklearn.preprocessing import MinMaxScaler, StandardScaler, RobustScaler\n",
    "from sklearn.model_selection import train_test_split\n",
    "from scipy.spatial.distance import cosine, jaccard, euclidean, cdist\n",
    "from sklearn.metrics import accuracy_score\n",
    "from sklearn.metrics import mean_squared_error\n",
    "from sklearn.cluster import KMeans\n",
    "from statistics import mode, StatisticsError\n",
    "\n",
    "import tensorflow as tf\n",
    "from tqdm import tqdm\n",
    "from tffm import TFFMClassifier, TFFMRegressor\n",
    "\n",
    "import matplotlib.pyplot as plt\n",
    "%matplotlib inline\n",
    "\n",
    "#data folder \n",
    "data_folder = 'data/'"
   ]
  },
  {
   "cell_type": "markdown",
   "metadata": {},
   "source": [
    "# Read the raw group (item) data"
   ]
  },
  {
   "cell_type": "code",
   "execution_count": 2,
   "metadata": {},
   "outputs": [
    {
     "name": "stdout",
     "output_type": "stream",
     "text": [
      "Number of groups: 18111\n",
      "\n"
     ]
    },
    {
     "data": {
      "text/plain": [
       "Index(['category.id', 'category.name', 'group_id', 'group_name',\n",
       "       'organizer_id', 'join_mode', 'group_member_count', 'log_group_mem_cnt',\n",
       "       'group_rating', 'visibility', 'group_location', 'group_age_months',\n",
       "       'log_group_age_months', 'has_sponsors', 'group_topic_names',\n",
       "       'group_topic_ids', 'group_topic_cnt', 'group_last_event_days',\n",
       "       'yes_rsvp_count_mean', 'maybe_rsvp_count_mean', 'event_most_recent',\n",
       "       'events_mean_freq', 'past_event_count', 'all_event_count',\n",
       "       'group_event1_age_days', 'group_eventN_age_days'],\n",
       "      dtype='object')"
      ]
     },
     "execution_count": 2,
     "metadata": {},
     "output_type": "execute_result"
    }
   ],
   "source": [
    "with open (data_folder+'groups_select_info_v2.pkl', 'rb') as fp:\n",
    "    select_groups_df = pickle.load(fp)\n",
    "    \n",
    "select_groups_df['group_id'] = select_groups_df['group_id'].astype('int')\n",
    "select_groups_df['organizer_id'] = select_groups_df['organizer_id'].astype('int')\n",
    "print('Number of groups: {}'.format(len(select_groups_df)))\n",
    "print()\n",
    "select_groups_df.columns"
   ]
  },
  {
   "cell_type": "markdown",
   "metadata": {},
   "source": [
    "# Read the raw organizer (user) data"
   ]
  },
  {
   "cell_type": "code",
   "execution_count": 3,
   "metadata": {},
   "outputs": [
    {
     "name": "stdout",
     "output_type": "stream",
     "text": [
      "Number of organizers: 13850\n",
      "\n"
     ]
    },
    {
     "data": {
      "text/plain": [
       "Index(['organizer_id', 'num_active_membership', 'log_num_active_membership',\n",
       "       'messaging_pref', 'organizer_country', 'organizer_topic_names',\n",
       "       'organizer_topic_ids', 'organizer_topic_cnt', 'membership_age_months',\n",
       "       'log_membership_age_months', 'last_visit_days', 'log_last_visit_days',\n",
       "       'organizer_grpN_age_days', 'log_grpN_age_days', 'num_groups'],\n",
       "      dtype='object')"
      ]
     },
     "execution_count": 3,
     "metadata": {},
     "output_type": "execute_result"
    }
   ],
   "source": [
    "with open (data_folder+'organizers_select_info_v2.pkl', 'rb') as fp:\n",
    "    select_organizers_df = pickle.load(fp)\n",
    "select_organizers_df['organizer_id'] = select_organizers_df['organizer_id'].astype('int')\n",
    "print('Number of organizers: {}'.format(len(select_organizers_df)))\n",
    "print()\n",
    "select_organizers_df.columns"
   ]
  },
  {
   "cell_type": "markdown",
   "metadata": {},
   "source": [
    "# Get the User/Item Interactions matrix"
   ]
  },
  {
   "cell_type": "code",
   "execution_count": 4,
   "metadata": {},
   "outputs": [
    {
     "name": "stdout",
     "output_type": "stream",
     "text": [
      "# of unique user/item interactions: 18111\n"
     ]
    },
    {
     "data": {
      "text/html": [
       "<div>\n",
       "<style>\n",
       "    .dataframe thead tr:only-child th {\n",
       "        text-align: right;\n",
       "    }\n",
       "\n",
       "    .dataframe thead th {\n",
       "        text-align: left;\n",
       "    }\n",
       "\n",
       "    .dataframe tbody tr th {\n",
       "        vertical-align: top;\n",
       "    }\n",
       "</style>\n",
       "<table border=\"1\" class=\"dataframe\">\n",
       "  <thead>\n",
       "    <tr style=\"text-align: right;\">\n",
       "      <th></th>\n",
       "      <th>organizer_id</th>\n",
       "      <th>group_id</th>\n",
       "      <th>group_age_months</th>\n",
       "      <th>group_location</th>\n",
       "      <th>eventStrength</th>\n",
       "      <th>num_groups</th>\n",
       "    </tr>\n",
       "  </thead>\n",
       "  <tbody>\n",
       "    <tr>\n",
       "      <th>0</th>\n",
       "      <td>294838</td>\n",
       "      <td>2657</td>\n",
       "      <td>186.0</td>\n",
       "      <td>Los Angeles-CA</td>\n",
       "      <td>3.1606</td>\n",
       "      <td>6</td>\n",
       "    </tr>\n",
       "    <tr>\n",
       "      <th>1</th>\n",
       "      <td>294838</td>\n",
       "      <td>153363</td>\n",
       "      <td>174.0</td>\n",
       "      <td>Los Angeles-CA</td>\n",
       "      <td>3.0380</td>\n",
       "      <td>6</td>\n",
       "    </tr>\n",
       "    <tr>\n",
       "      <th>2</th>\n",
       "      <td>1825635</td>\n",
       "      <td>153288</td>\n",
       "      <td>172.0</td>\n",
       "      <td>Chicago-IL</td>\n",
       "      <td>3.0168</td>\n",
       "      <td>1</td>\n",
       "    </tr>\n",
       "    <tr>\n",
       "      <th>3</th>\n",
       "      <td>7792265</td>\n",
       "      <td>178198</td>\n",
       "      <td>162.0</td>\n",
       "      <td>New York-NY</td>\n",
       "      <td>2.9073</td>\n",
       "      <td>1</td>\n",
       "    </tr>\n",
       "    <tr>\n",
       "      <th>4</th>\n",
       "      <td>5092271</td>\n",
       "      <td>329215</td>\n",
       "      <td>139.0</td>\n",
       "      <td>Chicago-IL</td>\n",
       "      <td>2.6318</td>\n",
       "      <td>1</td>\n",
       "    </tr>\n",
       "  </tbody>\n",
       "</table>\n",
       "</div>"
      ],
      "text/plain": [
       "   organizer_id  group_id  group_age_months  group_location  eventStrength  \\\n",
       "0        294838      2657             186.0  Los Angeles-CA         3.1606   \n",
       "1        294838    153363             174.0  Los Angeles-CA         3.0380   \n",
       "2       1825635    153288             172.0      Chicago-IL         3.0168   \n",
       "3       7792265    178198             162.0     New York-NY         2.9073   \n",
       "4       5092271    329215             139.0      Chicago-IL         2.6318   \n",
       "\n",
       "   num_groups  \n",
       "0           6  \n",
       "1           6  \n",
       "2           1  \n",
       "3           1  \n",
       "4           1  "
      ]
     },
     "execution_count": 4,
     "metadata": {},
     "output_type": "execute_result"
    }
   ],
   "source": [
    "interactions_df = select_groups_df[['organizer_id', 'group_id', \n",
    "                                    'group_age_months', 'group_location']].copy()\n",
    "# calculating the interaction strength\n",
    "# assigning more weight to older groups using a simple exponential function \n",
    "# 15*12+6 = number of months since first meetup group\n",
    "interactions_df['eventStrength'] = (interactions_df['group_age_months']\n",
    "                                    .apply(lambda x: round(5*(1-np.exp(-1*x/(15*12+6))),4)))\n",
    "interactions_df = interactions_df.merge(select_organizers_df[['organizer_id','num_groups']], \n",
    "                                        how = 'left', left_on = 'organizer_id', \n",
    "                                        right_on = 'organizer_id')\n",
    "#Indexing by organizer_id to speed up the searches during evaluation\n",
    "interactions_indexed_df = interactions_df.set_index('organizer_id')\n",
    "\n",
    "print('# of unique user/item interactions: %d' % len(interactions_df))\n",
    "interactions_df.head()"
   ]
  },
  {
   "cell_type": "code",
   "execution_count": 5,
   "metadata": {
    "collapsed": true
   },
   "outputs": [],
   "source": [
    "def get_groups_organized(organizer_id, interactions_df):\n",
    "    # Get the user's data and merge in the item information.\n",
    "    interacted_items = interactions_df.loc[organizer_id]['group_id']\n",
    "    return set(interacted_items if type(interacted_items) == pd.Series else [interacted_items])"
   ]
  },
  {
   "cell_type": "code",
   "execution_count": 6,
   "metadata": {
    "collapsed": true
   },
   "outputs": [],
   "source": [
    "def filter_not_organized_groups(organizer_id, group_ids):\n",
    "    interacted_items = get_groups_organized(organizer_id, interactions_indexed_df)\n",
    "    all_items = set(group_ids)\n",
    "    non_interacted_items = all_items - interacted_items\n",
    "    return set(non_interacted_items)"
   ]
  },
  {
   "cell_type": "markdown",
   "metadata": {},
   "source": [
    "# Create group (item) feature matrix"
   ]
  },
  {
   "cell_type": "code",
   "execution_count": 7,
   "metadata": {
    "collapsed": true
   },
   "outputs": [],
   "source": [
    "def create_topic_feature(list_topic_ids, n_components=33, reduce_dim=True, verbose=True):\n",
    "    topics_vocab_ = flatten(list_topic_ids)\n",
    "    if verbose:\n",
    "        print('Number of unique topics: {}'.format(len(topics_vocab_)))\n",
    "        print(topics_vocab_[:5])\n",
    "\n",
    "    #Concatenate the tokens to one string\n",
    "    topic_ids_joined = [' '.join(x) for x in list_topic_ids]\n",
    "        \n",
    "    count_vectorizer = CountVectorizer(lowercase=False, vocabulary=topics_vocab_, \n",
    "                                       max_df=1.0, min_df=1, binary=True)\n",
    "    #doc-topic matrix\n",
    "    counts_vector   = count_vectorizer.fit_transform(topic_ids_joined)\n",
    "    if verbose:\n",
    "        print('Dimension of doc-topic matrix:', (counts_vector.shape))\n",
    "    if reduce_dim:\n",
    "        lsa = TruncatedSVD(n_components=n_components,n_iter=15,random_state=42)\n",
    "        lsa.fit(counts_vector)\n",
    "        if verbose:\n",
    "            print(\"Sum of explained variances using {} components: {:.4f}\".format(n_components, \n",
    "                                                                              lsa.explained_variance_ratio_.sum()))\n",
    "            fig = plt.figure(figsize=(10,6));\n",
    "            plt.title(\"Singular values for {} components of topics\".format(n_components), size=15)\n",
    "            plt.ylabel(\"Singular Values\", size=15)\n",
    "            plt.xlabel(\"Number of Components\", size=15);\n",
    "            plt.plot([x for x in range(len(lsa.singular_values_))], lsa.singular_values_);\n",
    "            plt.ylim([10,150])\n",
    "\n",
    "        topic_matred = lsa.transform(counts_vector)\n",
    "        if verbose:\n",
    "            print('Dimension of doc-topic matrix in reduced topic space:', topic_matred.shape)\n",
    "        \n",
    "        return topic_matred\n",
    "    else:\n",
    "        if verbose:\n",
    "            print('Dimension of doc-topic matrix in original topic space:', counts_vector.shape)\n",
    "        \n",
    "        return counts_vector\n"
   ]
  },
  {
   "cell_type": "code",
   "execution_count": 8,
   "metadata": {
    "collapsed": true
   },
   "outputs": [],
   "source": [
    "# create dummy columns for categorical features\n",
    "def create_category_as_dummy(df):\n",
    "    category_cols = df.select_dtypes(include=['category']).columns\n",
    "\n",
    "    df_dummy = df.select_dtypes(exclude=['category']).copy()\n",
    "    lb = LabelBinarizer()\n",
    "\n",
    "    for col in category_cols:\n",
    "        if df[col].nunique() > 2:\n",
    "            tmp = pd.DataFrame( lb.fit_transform(df[col]), \n",
    "                                columns=[col+'_'+str(c) for c in lb.classes_],\n",
    "                                index = df.index )\n",
    "            df_dummy = df_dummy.join (tmp)\n",
    "        else:\n",
    "            df_dummy[col] = (df[col] == df[col].unique()[0])\n",
    "\n",
    "    return df_dummy"
   ]
  },
  {
   "cell_type": "code",
   "execution_count": 9,
   "metadata": {},
   "outputs": [
    {
     "name": "stdout",
     "output_type": "stream",
     "text": [
      "Number of unique topics: 20453\n",
      "['1821', '827', '549872', '131992', '93297']\n",
      "Dimension of doc-topic matrix: (18111, 20453)\n",
      "Sum of explained variances using 100 components: 0.4017\n",
      "Dimension of doc-topic matrix in reduced topic space: (18111, 100)\n",
      "Columns with nulls: ['event_most_recent', 'events_mean_freq']\n",
      "For Numerical features-> min:0.0000 | max:1.0000\n",
      "Dimension of group features matrix: (18111, 149)\n"
     ]
    },
    {
     "data": {
      "text/plain": [
       "Index(['category.id_1', 'category.id_2', 'category.id_3', 'category.id_4',\n",
       "       'category.id_5', 'category.id_6', 'category.id_8', 'category.id_9',\n",
       "       'category.id_10', 'category.id_11',\n",
       "       ...\n",
       "       'topic90', 'topic91', 'topic92', 'topic93', 'topic94', 'topic95',\n",
       "       'topic96', 'topic97', 'topic98', 'topic99'],\n",
       "      dtype='object', length=149)"
      ]
     },
     "execution_count": 9,
     "metadata": {},
     "output_type": "execute_result"
    },
    {
     "data": {
      "image/png": "[encoded data removed]",
      "text/plain": [
       "<matplotlib.figure.Figure at 0x7fd0d7265b00>"
      ]
     },
     "metadata": {},
     "output_type": "display_data"
    }
   ],
   "source": [
    "# create group (item) feature matrix\n",
    "features_cat = ['category.id', 'group_location', 'join_mode']\n",
    "features_num = ['group_member_count', 'group_rating', 'group_age_months',\n",
    "                'yes_rsvp_count_mean', 'event_most_recent', \n",
    "                'events_mean_freq', 'past_event_count']\n",
    "#features_num = ['log_group_mem_cnt', 'group_rating', 'log_group_age_months',\n",
    "#                'yes_rsvp_count_mean', 'maybe_rsvp_count_mean',\n",
    "#                'event_most_recent', 'events_mean_freq', 'past_event_count']\n",
    "features_bin = ['has_sponsors',]\n",
    "features_txt = 'group_topic_ids'\n",
    "\n",
    "#topic vector\n",
    "n_components=100\n",
    "reduce_dim=True\n",
    "topic_red_mat = create_topic_feature(list(select_groups_df[features_txt]),\n",
    "                                     n_components=n_components,\n",
    "                                     reduce_dim=reduce_dim)\n",
    "if reduce_dim:\n",
    "    scaler = MinMaxScaler()\n",
    "    topic_red_mat = scaler.fit_transform(topic_red_mat)\n",
    "    \n",
    "group_text_df = pd.DataFrame(topic_red_mat)\n",
    "group_text_df.columns = ['topic'+str(col) for col in group_text_df.columns]\n",
    "\n",
    "#encode categorical variables as dummy\n",
    "category_df = create_category_as_dummy(select_groups_df[features_cat])\n",
    "\n",
    "#numerical features\n",
    "numerical_df = select_groups_df[features_num].copy()\n",
    "\n",
    "# handle the Null values\n",
    "numerical_df['event_most_recent'].fillna(select_groups_df['group_last_event_days'], inplace=True)\n",
    "null_check_df = check_nulls(numerical_df, numerical_df.columns, verbose = False)\n",
    "null_cols = null_check_df.columns[~null_check_df.isin([0]).any()].tolist()\n",
    "print('Columns with nulls:', null_cols)\n",
    "null_fill_value = -1\n",
    "numerical_df.fillna({'event_most_recent':null_fill_value,\n",
    "                     'events_mean_freq' :null_fill_value}, inplace=True)\n",
    "#scale the values\n",
    "scaler = MinMaxScaler()\n",
    "numerical_df = pd.DataFrame(scaler.fit_transform(numerical_df.copy()), \n",
    "                            columns=features_num)\n",
    "print('For Numerical features-> min:{0:.4f} | max:{1:.4f}'.\n",
    "      format(numerical_df.values.min(), numerical_df.values.max()))\n",
    "\n",
    "binary_df = select_groups_df[features_bin].astype('uint')\n",
    "\n",
    "#concatenate all the features\n",
    "group_features_df = pd.concat([category_df, numerical_df, binary_df, group_text_df], axis=1)\n",
    "group_features_df.index = select_groups_df['group_id']\n",
    "\n",
    "del numerical_df, category_df, binary_df, null_check_df\n",
    "gc.collect()\n",
    "\n",
    "print('Dimension of group features matrix:', group_features_df.shape)\n",
    "group_features_df.columns"
   ]
  },
  {
   "cell_type": "code",
   "execution_count": 10,
   "metadata": {},
   "outputs": [
    {
     "data": {
      "text/html": [
       "<div>\n",
       "<style>\n",
       "    .dataframe thead tr:only-child th {\n",
       "        text-align: right;\n",
       "    }\n",
       "\n",
       "    .dataframe thead th {\n",
       "        text-align: left;\n",
       "    }\n",
       "\n",
       "    .dataframe tbody tr th {\n",
       "        vertical-align: top;\n",
       "    }\n",
       "</style>\n",
       "<table border=\"1\" class=\"dataframe\">\n",
       "  <thead>\n",
       "    <tr style=\"text-align: right;\">\n",
       "      <th></th>\n",
       "      <th>category.id_1</th>\n",
       "      <th>category.id_2</th>\n",
       "      <th>category.id_3</th>\n",
       "      <th>category.id_4</th>\n",
       "      <th>category.id_5</th>\n",
       "      <th>category.id_6</th>\n",
       "      <th>category.id_8</th>\n",
       "      <th>category.id_9</th>\n",
       "      <th>category.id_10</th>\n",
       "      <th>category.id_11</th>\n",
       "      <th>...</th>\n",
       "      <th>topic90</th>\n",
       "      <th>topic91</th>\n",
       "      <th>topic92</th>\n",
       "      <th>topic93</th>\n",
       "      <th>topic94</th>\n",
       "      <th>topic95</th>\n",
       "      <th>topic96</th>\n",
       "      <th>topic97</th>\n",
       "      <th>topic98</th>\n",
       "      <th>topic99</th>\n",
       "    </tr>\n",
       "    <tr>\n",
       "      <th>group_id</th>\n",
       "      <th></th>\n",
       "      <th></th>\n",
       "      <th></th>\n",
       "      <th></th>\n",
       "      <th></th>\n",
       "      <th></th>\n",
       "      <th></th>\n",
       "      <th></th>\n",
       "      <th></th>\n",
       "      <th></th>\n",
       "      <th></th>\n",
       "      <th></th>\n",
       "      <th></th>\n",
       "      <th></th>\n",
       "      <th></th>\n",
       "      <th></th>\n",
       "      <th></th>\n",
       "      <th></th>\n",
       "      <th></th>\n",
       "      <th></th>\n",
       "      <th></th>\n",
       "    </tr>\n",
       "  </thead>\n",
       "  <tbody>\n",
       "    <tr>\n",
       "      <th>2657</th>\n",
       "      <td>1</td>\n",
       "      <td>0</td>\n",
       "      <td>0</td>\n",
       "      <td>0</td>\n",
       "      <td>0</td>\n",
       "      <td>0</td>\n",
       "      <td>0</td>\n",
       "      <td>0</td>\n",
       "      <td>0</td>\n",
       "      <td>0</td>\n",
       "      <td>...</td>\n",
       "      <td>0.488454</td>\n",
       "      <td>0.452752</td>\n",
       "      <td>0.463651</td>\n",
       "      <td>0.431305</td>\n",
       "      <td>0.485262</td>\n",
       "      <td>0.497053</td>\n",
       "      <td>0.444029</td>\n",
       "      <td>0.406711</td>\n",
       "      <td>0.287683</td>\n",
       "      <td>0.500305</td>\n",
       "    </tr>\n",
       "    <tr>\n",
       "      <th>153363</th>\n",
       "      <td>1</td>\n",
       "      <td>0</td>\n",
       "      <td>0</td>\n",
       "      <td>0</td>\n",
       "      <td>0</td>\n",
       "      <td>0</td>\n",
       "      <td>0</td>\n",
       "      <td>0</td>\n",
       "      <td>0</td>\n",
       "      <td>0</td>\n",
       "      <td>...</td>\n",
       "      <td>0.471839</td>\n",
       "      <td>0.441864</td>\n",
       "      <td>0.452352</td>\n",
       "      <td>0.428949</td>\n",
       "      <td>0.471580</td>\n",
       "      <td>0.486888</td>\n",
       "      <td>0.466836</td>\n",
       "      <td>0.412603</td>\n",
       "      <td>0.295430</td>\n",
       "      <td>0.507463</td>\n",
       "    </tr>\n",
       "    <tr>\n",
       "      <th>153288</th>\n",
       "      <td>1</td>\n",
       "      <td>0</td>\n",
       "      <td>0</td>\n",
       "      <td>0</td>\n",
       "      <td>0</td>\n",
       "      <td>0</td>\n",
       "      <td>0</td>\n",
       "      <td>0</td>\n",
       "      <td>0</td>\n",
       "      <td>0</td>\n",
       "      <td>...</td>\n",
       "      <td>0.454868</td>\n",
       "      <td>0.406498</td>\n",
       "      <td>0.450871</td>\n",
       "      <td>0.438372</td>\n",
       "      <td>0.505683</td>\n",
       "      <td>0.508722</td>\n",
       "      <td>0.449255</td>\n",
       "      <td>0.409959</td>\n",
       "      <td>0.288783</td>\n",
       "      <td>0.527919</td>\n",
       "    </tr>\n",
       "  </tbody>\n",
       "</table>\n",
       "<p>3 rows × 149 columns</p>\n",
       "</div>"
      ],
      "text/plain": [
       "          category.id_1  category.id_2  category.id_3  category.id_4  \\\n",
       "group_id                                                               \n",
       "2657                  1              0              0              0   \n",
       "153363                1              0              0              0   \n",
       "153288                1              0              0              0   \n",
       "\n",
       "          category.id_5  category.id_6  category.id_8  category.id_9  \\\n",
       "group_id                                                               \n",
       "2657                  0              0              0              0   \n",
       "153363                0              0              0              0   \n",
       "153288                0              0              0              0   \n",
       "\n",
       "          category.id_10  category.id_11    ...      topic90   topic91  \\\n",
       "group_id                                    ...                          \n",
       "2657                   0               0    ...     0.488454  0.452752   \n",
       "153363                 0               0    ...     0.471839  0.441864   \n",
       "153288                 0               0    ...     0.454868  0.406498   \n",
       "\n",
       "           topic92   topic93   topic94   topic95   topic96   topic97  \\\n",
       "group_id                                                               \n",
       "2657      0.463651  0.431305  0.485262  0.497053  0.444029  0.406711   \n",
       "153363    0.452352  0.428949  0.471580  0.486888  0.466836  0.412603   \n",
       "153288    0.450871  0.438372  0.505683  0.508722  0.449255  0.409959   \n",
       "\n",
       "           topic98   topic99  \n",
       "group_id                      \n",
       "2657      0.287683  0.500305  \n",
       "153363    0.295430  0.507463  \n",
       "153288    0.288783  0.527919  \n",
       "\n",
       "[3 rows x 149 columns]"
      ]
     },
     "execution_count": 10,
     "metadata": {},
     "output_type": "execute_result"
    }
   ],
   "source": [
    "group_features_df.head(3)"
   ]
  },
  {
   "cell_type": "code",
   "execution_count": 11,
   "metadata": {},
   "outputs": [
    {
     "name": "stdout",
     "output_type": "stream",
     "text": [
      "GROUP FEATURES --> MIN:0.0000 | MAX:1.0000 | MEAN:0.3053 | MEDIAN:0.3682\n"
     ]
    }
   ],
   "source": [
    "print('GROUP FEATURES --> MIN:{0:.4f} | MAX:{1:.4f} | MEAN:{2:.4f} | MEDIAN:{3:.4f}'\n",
    "      .format(np.min(group_features_df.values), np.max(group_features_df.values), \n",
    "              np.mean(group_features_df.values), np.median(group_features_df.values)))"
   ]
  },
  {
   "cell_type": "markdown",
   "metadata": {},
   "source": [
    "# Create organizer (user) feature matrix"
   ]
  },
  {
   "cell_type": "code",
   "execution_count": null,
   "metadata": {},
   "outputs": [],
   "source": [
    "# create organizer (user) feature matrix\n",
    "features_cat = ['organizer_country', 'messaging_pref']\n",
    "features_num = ['log_num_active_membership', 'log_membership_age_months',\n",
    "                'log_last_visit_days', 'log_grpN_age_days']\n",
    "features_txt = 'organizer_topic_ids'\n",
    "\n",
    "#topic vector\n",
    "text_df = pd.DataFrame(create_topic_feature(list(select_organizers_df[features_txt]),n_components=12))\n",
    "text_df.columns = ['topic'+str(col) for col in text_df.columns]\n",
    "\n",
    "#encode categorical variables as dummy\n",
    "category_df = create_category_as_dummy(select_organizers_df[features_cat])\n",
    "\n",
    "#numerical features\n",
    "numerical_df = select_organizers_df[features_num].copy()\n",
    "\n",
    "# check for Null values\n",
    "null_check_df = check_nulls(numerical_df, numerical_df.columns, verbose = False)\n",
    "print('Columns with nulls:', \n",
    "      null_check_df.columns[~null_check_df.isin([0]).any()].tolist())\n",
    "\n",
    "#scale the values\n",
    "scaler = MinMaxScaler()\n",
    "numerical_df = pd.DataFrame(scaler.fit_transform(numerical_df.copy()), \n",
    "                            columns=features_num)\n",
    "print('For Numerical features-> min:{0:.4f} | max:{1:.4f}'.\n",
    "      format(numerical_df.values.min(), numerical_df.values.max()))\n",
    "\n",
    "#concatenate all the features\n",
    "organizer_features_df = pd.concat([category_df, numerical_df, text_df], axis=1)\n",
    "organizer_features_df.index = select_organizers_df['organizer_id']\n",
    "\n",
    "del numerical_df, category_df, null_check_df\n",
    "gc.collect()\n",
    "\n",
    "print('Dimension of organizer features matrix:', organizer_features_df.shape)\n",
    "organizer_features_df.columns"
   ]
  },
  {
   "cell_type": "markdown",
   "metadata": {},
   "source": [
    "# Dimensionality reduction"
   ]
  },
  {
   "cell_type": "code",
   "execution_count": 12,
   "metadata": {},
   "outputs": [
    {
     "name": "stdout",
     "output_type": "stream",
     "text": [
      "Dimension of feature matrix in original feature space: (18111, 49)\n",
      "Sum of explained variances using 30 components: 0.9603\n",
      "Dimension of feature matrix in reduced feature space: (18111, 30)\n"
     ]
    },
    {
     "data": {
      "image/png": "[encoded data removed]",
      "text/plain": [
       "<matplotlib.figure.Figure at 0x7fd0c046dc50>"
      ]
     },
     "metadata": {},
     "output_type": "display_data"
    }
   ],
   "source": [
    "# applying SVD on group features other than topics\n",
    "apply_svd_cols = group_features_df.columns.drop(list(group_features_df.filter(regex='topic')))\n",
    "n_components = 30\n",
    "\n",
    "print('Dimension of feature matrix in original feature space:', group_features_df[apply_svd_cols].values.shape)\n",
    "\n",
    "lsa = TruncatedSVD(n_components=n_components,n_iter=15,random_state=42)\n",
    "lsa.fit(group_features_df[apply_svd_cols].values)\n",
    "\n",
    "print(\"Sum of explained variances using {} components: {:.4f}\".format(n_components, \n",
    "                                                                      lsa.explained_variance_ratio_.sum()))\n",
    "fig = plt.figure(figsize=(10,6));\n",
    "plt.title(\"Singular values for {} components of group features\".format(n_components), size=15)\n",
    "plt.ylabel(\"Singular Values\", size=15)\n",
    "plt.xlabel(\"Number of Components\", size=15);\n",
    "plt.plot([x for x in range(len(lsa.singular_values_))], lsa.singular_values_);\n",
    "\n",
    "feature_matred = lsa.transform(group_features_df[apply_svd_cols].values)\n",
    "print('Dimension of feature matrix in reduced feature space:', feature_matred.shape)"
   ]
  },
  {
   "cell_type": "code",
   "execution_count": 15,
   "metadata": {},
   "outputs": [
    {
     "name": "stdout",
     "output_type": "stream",
     "text": [
      "Dimension of reduced group features matrix: (18111, 130)\n"
     ]
    },
    {
     "data": {
      "text/plain": [
       "Index(['feature0', 'feature1', 'feature2', 'feature3', 'feature4', 'feature5',\n",
       "       'feature6', 'feature7', 'feature8', 'feature9',\n",
       "       ...\n",
       "       'topic90', 'topic91', 'topic92', 'topic93', 'topic94', 'topic95',\n",
       "       'topic96', 'topic97', 'topic98', 'topic99'],\n",
       "      dtype='object', length=130)"
      ]
     },
     "execution_count": 15,
     "metadata": {},
     "output_type": "execute_result"
    }
   ],
   "source": [
    "# merge the feature and the topics\n",
    "scaler = MinMaxScaler()\n",
    "feature_matred = scaler.fit_transform(feature_matred)\n",
    "\n",
    "#topic_cols = list(set(apply_svd_cols).symmetric_difference(group_features_df.columns))\n",
    "feature_df = pd.DataFrame(feature_matred)\n",
    "feature_df.columns = ['feature'+str(col) for col in feature_df.columns]\n",
    "group_features_red_df = pd.concat([feature_df, group_text_df], axis=1)\n",
    "group_features_red_df.index = select_groups_df['group_id']\n",
    "\n",
    "del feature_df\n",
    "gc.collect()\n",
    "\n",
    "print('Dimension of reduced group features matrix:', group_features_red_df.shape)\n",
    "group_features_red_df.columns"
   ]
  },
  {
   "cell_type": "code",
   "execution_count": 16,
   "metadata": {},
   "outputs": [
    {
     "name": "stdout",
     "output_type": "stream",
     "text": [
      "REDUCED GROUP FEATURES --> MIN:0.0000 | MAX:1.0000 | MEAN:0.4105 | MEDIAN:0.4252\n"
     ]
    }
   ],
   "source": [
    "print('REDUCED GROUP FEATURES --> MIN:{0:.4f} | MAX:{1:.4f} | MEAN:{2:.4f} | MEDIAN:{3:.4f}'\n",
    "      .format(np.min(group_features_red_df.values), np.max(group_features_red_df.values), \n",
    "              np.mean(group_features_red_df.values), np.median(group_features_red_df.values)))"
   ]
  },
  {
   "cell_type": "code",
   "execution_count": 17,
   "metadata": {},
   "outputs": [
    {
     "data": {
      "text/html": [
       "<div>\n",
       "<style>\n",
       "    .dataframe thead tr:only-child th {\n",
       "        text-align: right;\n",
       "    }\n",
       "\n",
       "    .dataframe thead th {\n",
       "        text-align: left;\n",
       "    }\n",
       "\n",
       "    .dataframe tbody tr th {\n",
       "        vertical-align: top;\n",
       "    }\n",
       "</style>\n",
       "<table border=\"1\" class=\"dataframe\">\n",
       "  <thead>\n",
       "    <tr style=\"text-align: right;\">\n",
       "      <th></th>\n",
       "      <th>feature0</th>\n",
       "      <th>feature1</th>\n",
       "      <th>feature2</th>\n",
       "      <th>feature3</th>\n",
       "      <th>feature4</th>\n",
       "      <th>feature5</th>\n",
       "      <th>feature6</th>\n",
       "      <th>feature7</th>\n",
       "      <th>feature8</th>\n",
       "      <th>feature9</th>\n",
       "      <th>...</th>\n",
       "      <th>topic90</th>\n",
       "      <th>topic91</th>\n",
       "      <th>topic92</th>\n",
       "      <th>topic93</th>\n",
       "      <th>topic94</th>\n",
       "      <th>topic95</th>\n",
       "      <th>topic96</th>\n",
       "      <th>topic97</th>\n",
       "      <th>topic98</th>\n",
       "      <th>topic99</th>\n",
       "    </tr>\n",
       "    <tr>\n",
       "      <th>group_id</th>\n",
       "      <th></th>\n",
       "      <th></th>\n",
       "      <th></th>\n",
       "      <th></th>\n",
       "      <th></th>\n",
       "      <th></th>\n",
       "      <th></th>\n",
       "      <th></th>\n",
       "      <th></th>\n",
       "      <th></th>\n",
       "      <th></th>\n",
       "      <th></th>\n",
       "      <th></th>\n",
       "      <th></th>\n",
       "      <th></th>\n",
       "      <th></th>\n",
       "      <th></th>\n",
       "      <th></th>\n",
       "      <th></th>\n",
       "      <th></th>\n",
       "      <th></th>\n",
       "    </tr>\n",
       "  </thead>\n",
       "  <tbody>\n",
       "    <tr>\n",
       "      <th>2657</th>\n",
       "      <td>0.831402</td>\n",
       "      <td>0.231931</td>\n",
       "      <td>0.420383</td>\n",
       "      <td>0.752774</td>\n",
       "      <td>0.287470</td>\n",
       "      <td>0.410069</td>\n",
       "      <td>0.710448</td>\n",
       "      <td>0.541467</td>\n",
       "      <td>0.102293</td>\n",
       "      <td>0.179347</td>\n",
       "      <td>...</td>\n",
       "      <td>0.488454</td>\n",
       "      <td>0.452752</td>\n",
       "      <td>0.463651</td>\n",
       "      <td>0.431305</td>\n",
       "      <td>0.485262</td>\n",
       "      <td>0.497053</td>\n",
       "      <td>0.444029</td>\n",
       "      <td>0.406711</td>\n",
       "      <td>0.287683</td>\n",
       "      <td>0.500305</td>\n",
       "    </tr>\n",
       "    <tr>\n",
       "      <th>153363</th>\n",
       "      <td>0.832069</td>\n",
       "      <td>0.230510</td>\n",
       "      <td>0.420620</td>\n",
       "      <td>0.753902</td>\n",
       "      <td>0.288047</td>\n",
       "      <td>0.406840</td>\n",
       "      <td>0.709361</td>\n",
       "      <td>0.540879</td>\n",
       "      <td>0.106326</td>\n",
       "      <td>0.172803</td>\n",
       "      <td>...</td>\n",
       "      <td>0.471839</td>\n",
       "      <td>0.441864</td>\n",
       "      <td>0.452352</td>\n",
       "      <td>0.428949</td>\n",
       "      <td>0.471580</td>\n",
       "      <td>0.486888</td>\n",
       "      <td>0.466836</td>\n",
       "      <td>0.412603</td>\n",
       "      <td>0.295430</td>\n",
       "      <td>0.507463</td>\n",
       "    </tr>\n",
       "    <tr>\n",
       "      <th>153288</th>\n",
       "      <td>0.788183</td>\n",
       "      <td>0.258367</td>\n",
       "      <td>0.494248</td>\n",
       "      <td>0.669543</td>\n",
       "      <td>0.379367</td>\n",
       "      <td>0.610550</td>\n",
       "      <td>0.131082</td>\n",
       "      <td>0.280319</td>\n",
       "      <td>0.108317</td>\n",
       "      <td>0.257900</td>\n",
       "      <td>...</td>\n",
       "      <td>0.454868</td>\n",
       "      <td>0.406498</td>\n",
       "      <td>0.450871</td>\n",
       "      <td>0.438372</td>\n",
       "      <td>0.505683</td>\n",
       "      <td>0.508722</td>\n",
       "      <td>0.449255</td>\n",
       "      <td>0.409959</td>\n",
       "      <td>0.288783</td>\n",
       "      <td>0.527919</td>\n",
       "    </tr>\n",
       "  </tbody>\n",
       "</table>\n",
       "<p>3 rows × 130 columns</p>\n",
       "</div>"
      ],
      "text/plain": [
       "          feature0  feature1  feature2  feature3  feature4  feature5  \\\n",
       "group_id                                                               \n",
       "2657      0.831402  0.231931  0.420383  0.752774  0.287470  0.410069   \n",
       "153363    0.832069  0.230510  0.420620  0.753902  0.288047  0.406840   \n",
       "153288    0.788183  0.258367  0.494248  0.669543  0.379367  0.610550   \n",
       "\n",
       "          feature6  feature7  feature8  feature9    ...      topic90  \\\n",
       "group_id                                            ...                \n",
       "2657      0.710448  0.541467  0.102293  0.179347    ...     0.488454   \n",
       "153363    0.709361  0.540879  0.106326  0.172803    ...     0.471839   \n",
       "153288    0.131082  0.280319  0.108317  0.257900    ...     0.454868   \n",
       "\n",
       "           topic91   topic92   topic93   topic94   topic95   topic96  \\\n",
       "group_id                                                               \n",
       "2657      0.452752  0.463651  0.431305  0.485262  0.497053  0.444029   \n",
       "153363    0.441864  0.452352  0.428949  0.471580  0.486888  0.466836   \n",
       "153288    0.406498  0.450871  0.438372  0.505683  0.508722  0.449255   \n",
       "\n",
       "           topic97   topic98   topic99  \n",
       "group_id                                \n",
       "2657      0.406711  0.287683  0.500305  \n",
       "153363    0.412603  0.295430  0.507463  \n",
       "153288    0.409959  0.288783  0.527919  \n",
       "\n",
       "[3 rows x 130 columns]"
      ]
     },
     "execution_count": 17,
     "metadata": {},
     "output_type": "execute_result"
    }
   ],
   "source": [
    "group_features_red_df.head(3)"
   ]
  },
  {
   "cell_type": "markdown",
   "metadata": {},
   "source": [
    "# Method 1: Content based similarity"
   ]
  },
  {
   "cell_type": "markdown",
   "metadata": {},
   "source": [
    "## Create user profile for each organizer"
   ]
  },
  {
   "cell_type": "code",
   "execution_count": 18,
   "metadata": {
    "collapsed": true
   },
   "outputs": [],
   "source": [
    "def get_item_profile(item_id, reduced_dim):\n",
    "    if reduced_dim:\n",
    "        item_profile = group_features_red_df.loc[item_id]\n",
    "    else:    \n",
    "        item_profile = group_features_df.loc[item_id]\n",
    "    return item_profile\n",
    "\n",
    "def get_item_profiles(ids, reduced_dim):\n",
    "    if type(ids) == pd.Series:\n",
    "        item_profiles_list = [get_item_profile(x, reduced_dim) for x in ids]\n",
    "        item_profiles = np.vstack(item_profiles_list)\n",
    "    else:\n",
    "        item_profiles = get_item_profile(ids, reduced_dim).values.reshape(1, -1)\n",
    "    return item_profiles\n",
    "\n",
    "def build_users_profile(organizer_id, weighted, reduced_dim):\n",
    "    interactions_person_df = interactions_indexed_df.loc[organizer_id]\n",
    "    user_item_profiles = get_item_profiles(interactions_person_df['group_id'], reduced_dim)\n",
    "    if weighted:\n",
    "        user_item_strengths = np.array(interactions_person_df['eventStrength']).reshape(-1,1)\n",
    "        #average of item profiles by the interactions strength\n",
    "        user_item_strengths_weighted_avg = np.mean(np.multiply(user_item_profiles, user_item_strengths), axis=0)\n",
    "        user_profile_norm = normalize(user_item_strengths_weighted_avg.reshape(1, -1))\n",
    "    \n",
    "        return user_profile_norm\n",
    "    else:\n",
    "        return user_item_profiles\n",
    "\n",
    "def build_users_profiles(weighted=True, reduced_dim=False): \n",
    "    user_profiles = {}\n",
    "    for organizer_id in interactions_indexed_df.index.unique():\n",
    "        user_profiles[organizer_id] = build_users_profile(organizer_id, \n",
    "                                                          weighted,\n",
    "                                                          reduced_dim)\n",
    "    return user_profiles"
   ]
  },
  {
   "cell_type": "code",
   "execution_count": 19,
   "metadata": {},
   "outputs": [
    {
     "name": "stdout",
     "output_type": "stream",
     "text": [
      "Building user profiles using original features..\n",
      "User profiles created for 13850 organizers using original features\n"
     ]
    }
   ],
   "source": [
    "print('Building user profiles using original features..')\n",
    "user_profiles = build_users_profiles(weighted=False, reduced_dim=False)\n",
    "print('User profiles created for {} organizers using original features'\n",
    "      .format(len(user_profiles)))"
   ]
  },
  {
   "cell_type": "code",
   "execution_count": 20,
   "metadata": {},
   "outputs": [
    {
     "name": "stdout",
     "output_type": "stream",
     "text": [
      "Building user profiles using reduced dimensional features..\n",
      "User profiles created for 13850 organizers using reduced dimensional features\n"
     ]
    }
   ],
   "source": [
    "print('Building user profiles using reduced dimensional features..')\n",
    "user_profiles_red = build_users_profiles(weighted=False, reduced_dim=True)\n",
    "print('User profiles created for {} organizers using reduced dimensional features'\n",
    "      .format(len(user_profiles_red)))"
   ]
  },
  {
   "cell_type": "code",
   "execution_count": 22,
   "metadata": {},
   "outputs": [
    {
     "data": {
      "text/plain": [
       "(6, 149)"
      ]
     },
     "execution_count": 22,
     "metadata": {},
     "output_type": "execute_result"
    }
   ],
   "source": [
    "(user_profiles[294838]).shape"
   ]
  },
  {
   "cell_type": "markdown",
   "metadata": {},
   "source": [
    "## Find similar items and recommend"
   ]
  },
  {
   "cell_type": "code",
   "execution_count": 23,
   "metadata": {
    "collapsed": true
   },
   "outputs": [],
   "source": [
    "def get_similar_items_to_user_profile(person_id, topn=100, reduced_dim=False):\n",
    "    #Computes the distance between the user profile and all item profiles\n",
    "    if reduced_dim:\n",
    "        similarities = cdist(user_profiles_red[person_id], \n",
    "                             group_features_red_df.values, \n",
    "                             metric='euclidean')\n",
    "    else:\n",
    "        similarities = cdist(user_profiles[person_id], \n",
    "                             group_features_df.values, \n",
    "                             metric='euclidean')\n",
    "        \n",
    "    #Gets the top similar items\n",
    "    similar_indices = similarities.argsort(axis=1)[:,:topn]\n",
    "    \n",
    "    #Sort the similar items by similarity\n",
    "    if reduced_dim:\n",
    "        similar_items = sorted([(group_features_red_df.index[i], similarities[num,i]) \n",
    "                                for num,row in enumerate(similar_indices) for i in row], \n",
    "                               key=lambda x: x[1])\n",
    "    else:\n",
    "        similar_items = sorted([(group_features_df.index[i], similarities[num,i]) \n",
    "                                for num,row in enumerate(similar_indices) for i in row], \n",
    "                               key=lambda x: x[1])\n",
    "        \n",
    "    return similar_items[:topn]"
   ]
  },
  {
   "cell_type": "code",
   "execution_count": 24,
   "metadata": {},
   "outputs": [],
   "source": [
    "def recommend_items(user_id, items_to_ignore=[], topn=10, reduced_dim=False, verbose=True):\n",
    "    similar_items = get_similar_items_to_user_profile(user_id, topn=topn, reduced_dim=reduced_dim)\n",
    "    #Ignores items the user has already interacted\n",
    "    similar_items_filtered = list(filter(lambda x: x[0] not in items_to_ignore, similar_items))\n",
    "    recommendations_df = pd.DataFrame(similar_items_filtered, \n",
    "                                      columns=['group_id', 'recStrength']).head(topn)\n",
    "    if verbose:\n",
    "        recommendations_df = (recommendations_df.merge(select_groups_df, how = 'left', \n",
    "                                                       left_on = 'group_id', \n",
    "                                                       right_on = 'group_id')\n",
    "                              [['recStrength', 'group_id', 'group_name', 'category.name', 'group_rating',\n",
    "                                'group_location', 'group_member_count', 'group_age_months',\n",
    "                                'has_sponsors', 'event_most_recent', 'events_mean_freq'\n",
    "                                ]])\n",
    "\n",
    "    return recommendations_df"
   ]
  },
  {
   "cell_type": "code",
   "execution_count": 25,
   "metadata": {},
   "outputs": [
    {
     "data": {
      "text/html": [
       "<div>\n",
       "<style>\n",
       "    .dataframe thead tr:only-child th {\n",
       "        text-align: right;\n",
       "    }\n",
       "\n",
       "    .dataframe thead th {\n",
       "        text-align: left;\n",
       "    }\n",
       "\n",
       "    .dataframe tbody tr th {\n",
       "        vertical-align: top;\n",
       "    }\n",
       "</style>\n",
       "<table border=\"1\" class=\"dataframe\">\n",
       "  <thead>\n",
       "    <tr style=\"text-align: right;\">\n",
       "      <th></th>\n",
       "      <th>recStrength</th>\n",
       "      <th>group_id</th>\n",
       "      <th>group_name</th>\n",
       "      <th>category.name</th>\n",
       "      <th>group_rating</th>\n",
       "      <th>group_location</th>\n",
       "      <th>group_member_count</th>\n",
       "      <th>group_age_months</th>\n",
       "      <th>has_sponsors</th>\n",
       "      <th>event_most_recent</th>\n",
       "      <th>events_mean_freq</th>\n",
       "    </tr>\n",
       "  </thead>\n",
       "  <tbody>\n",
       "    <tr>\n",
       "      <th>0</th>\n",
       "      <td>0.814864</td>\n",
       "      <td>1752853</td>\n",
       "      <td>Chicago Improv Practice Group</td>\n",
       "      <td>fine arts/culture</td>\n",
       "      <td>4.86</td>\n",
       "      <td>Chicago-IL</td>\n",
       "      <td>770</td>\n",
       "      <td>88.0</td>\n",
       "      <td>True</td>\n",
       "      <td>278.0</td>\n",
       "      <td>29.0</td>\n",
       "    </tr>\n",
       "    <tr>\n",
       "      <th>1</th>\n",
       "      <td>1.064154</td>\n",
       "      <td>978913</td>\n",
       "      <td>The Chicago Museum Meetup Group</td>\n",
       "      <td>fine arts/culture</td>\n",
       "      <td>4.46</td>\n",
       "      <td>Chicago-IL</td>\n",
       "      <td>2024</td>\n",
       "      <td>123.0</td>\n",
       "      <td>True</td>\n",
       "      <td>648.0</td>\n",
       "      <td>26.0</td>\n",
       "    </tr>\n",
       "    <tr>\n",
       "      <th>2</th>\n",
       "      <td>1.160543</td>\n",
       "      <td>639910</td>\n",
       "      <td>Chicago Acting Meetup Group</td>\n",
       "      <td>fine arts/culture</td>\n",
       "      <td>4.48</td>\n",
       "      <td>Chicago-IL</td>\n",
       "      <td>821</td>\n",
       "      <td>128.0</td>\n",
       "      <td>True</td>\n",
       "      <td>0.0</td>\n",
       "      <td>13.0</td>\n",
       "    </tr>\n",
       "    <tr>\n",
       "      <th>3</th>\n",
       "      <td>1.434442</td>\n",
       "      <td>19203922</td>\n",
       "      <td>Chicago Theater Meetup</td>\n",
       "      <td>fine arts/culture</td>\n",
       "      <td>4.35</td>\n",
       "      <td>Chicago-IL</td>\n",
       "      <td>763</td>\n",
       "      <td>28.0</td>\n",
       "      <td>False</td>\n",
       "      <td>6.0</td>\n",
       "      <td>1.0</td>\n",
       "    </tr>\n",
       "    <tr>\n",
       "      <th>4</th>\n",
       "      <td>1.464826</td>\n",
       "      <td>8588222</td>\n",
       "      <td>Chicago Culture and Arts Club</td>\n",
       "      <td>fine arts/culture</td>\n",
       "      <td>4.66</td>\n",
       "      <td>Chicago-IL</td>\n",
       "      <td>2113</td>\n",
       "      <td>59.0</td>\n",
       "      <td>True</td>\n",
       "      <td>20.0</td>\n",
       "      <td>6.0</td>\n",
       "    </tr>\n",
       "    <tr>\n",
       "      <th>5</th>\n",
       "      <td>1.500971</td>\n",
       "      <td>26246864</td>\n",
       "      <td>Next Gen Art Collecting</td>\n",
       "      <td>fine arts/culture</td>\n",
       "      <td>5.00</td>\n",
       "      <td>Chicago-IL</td>\n",
       "      <td>37</td>\n",
       "      <td>6.0</td>\n",
       "      <td>True</td>\n",
       "      <td>122.0</td>\n",
       "      <td>17.0</td>\n",
       "    </tr>\n",
       "    <tr>\n",
       "      <th>6</th>\n",
       "      <td>1.519872</td>\n",
       "      <td>23498932</td>\n",
       "      <td>Chicago: The Business &amp; The Craft of Acting</td>\n",
       "      <td>fine arts/culture</td>\n",
       "      <td>4.00</td>\n",
       "      <td>Chicago-IL</td>\n",
       "      <td>280</td>\n",
       "      <td>12.0</td>\n",
       "      <td>False</td>\n",
       "      <td>69.0</td>\n",
       "      <td>5.0</td>\n",
       "    </tr>\n",
       "    <tr>\n",
       "      <th>7</th>\n",
       "      <td>1.541484</td>\n",
       "      <td>2390501</td>\n",
       "      <td>Chicago Design Workshops</td>\n",
       "      <td>fine arts/culture</td>\n",
       "      <td>4.75</td>\n",
       "      <td>Chicago-IL</td>\n",
       "      <td>186</td>\n",
       "      <td>80.0</td>\n",
       "      <td>False</td>\n",
       "      <td>10.0</td>\n",
       "      <td>216.0</td>\n",
       "    </tr>\n",
       "    <tr>\n",
       "      <th>8</th>\n",
       "      <td>1.548112</td>\n",
       "      <td>16621602</td>\n",
       "      <td>Stand &amp; Deliver Performing Arts - Improv Meetu...</td>\n",
       "      <td>fine arts/culture</td>\n",
       "      <td>3.80</td>\n",
       "      <td>Chicago-IL</td>\n",
       "      <td>817</td>\n",
       "      <td>44.0</td>\n",
       "      <td>False</td>\n",
       "      <td>64.0</td>\n",
       "      <td>9.0</td>\n",
       "    </tr>\n",
       "  </tbody>\n",
       "</table>\n",
       "</div>"
      ],
      "text/plain": [
       "   recStrength  group_id                                         group_name  \\\n",
       "0     0.814864   1752853                      Chicago Improv Practice Group   \n",
       "1     1.064154    978913                    The Chicago Museum Meetup Group   \n",
       "2     1.160543    639910                        Chicago Acting Meetup Group   \n",
       "3     1.434442  19203922                             Chicago Theater Meetup   \n",
       "4     1.464826   8588222                      Chicago Culture and Arts Club   \n",
       "5     1.500971  26246864                            Next Gen Art Collecting   \n",
       "6     1.519872  23498932        Chicago: The Business & The Craft of Acting   \n",
       "7     1.541484   2390501                           Chicago Design Workshops   \n",
       "8     1.548112  16621602  Stand & Deliver Performing Arts - Improv Meetu...   \n",
       "\n",
       "       category.name  group_rating group_location  group_member_count  \\\n",
       "0  fine arts/culture          4.86     Chicago-IL                 770   \n",
       "1  fine arts/culture          4.46     Chicago-IL                2024   \n",
       "2  fine arts/culture          4.48     Chicago-IL                 821   \n",
       "3  fine arts/culture          4.35     Chicago-IL                 763   \n",
       "4  fine arts/culture          4.66     Chicago-IL                2113   \n",
       "5  fine arts/culture          5.00     Chicago-IL                  37   \n",
       "6  fine arts/culture          4.00     Chicago-IL                 280   \n",
       "7  fine arts/culture          4.75     Chicago-IL                 186   \n",
       "8  fine arts/culture          3.80     Chicago-IL                 817   \n",
       "\n",
       "   group_age_months  has_sponsors  event_most_recent  events_mean_freq  \n",
       "0              88.0          True              278.0              29.0  \n",
       "1             123.0          True              648.0              26.0  \n",
       "2             128.0          True                0.0              13.0  \n",
       "3              28.0         False                6.0               1.0  \n",
       "4              59.0          True               20.0               6.0  \n",
       "5               6.0          True              122.0              17.0  \n",
       "6              12.0         False               69.0               5.0  \n",
       "7              80.0         False               10.0             216.0  \n",
       "8              44.0         False               64.0               9.0  "
      ]
     },
     "execution_count": 25,
     "metadata": {},
     "output_type": "execute_result"
    }
   ],
   "source": [
    "# test case\n",
    "organizer_id =  1825635 #216248567 # \n",
    "groups_to_ignore = get_groups_organized(organizer_id, interactions_indexed_df)\n",
    "recommend_items(organizer_id, groups_to_ignore, topn=10, reduced_dim=False, verbose=True)"
   ]
  },
  {
   "cell_type": "code",
   "execution_count": 26,
   "metadata": {},
   "outputs": [
    {
     "data": {
      "text/html": [
       "<div>\n",
       "<style>\n",
       "    .dataframe thead tr:only-child th {\n",
       "        text-align: right;\n",
       "    }\n",
       "\n",
       "    .dataframe thead th {\n",
       "        text-align: left;\n",
       "    }\n",
       "\n",
       "    .dataframe tbody tr th {\n",
       "        vertical-align: top;\n",
       "    }\n",
       "</style>\n",
       "<table border=\"1\" class=\"dataframe\">\n",
       "  <thead>\n",
       "    <tr style=\"text-align: right;\">\n",
       "      <th></th>\n",
       "      <th>recStrength</th>\n",
       "      <th>group_id</th>\n",
       "      <th>group_name</th>\n",
       "      <th>category.name</th>\n",
       "      <th>group_rating</th>\n",
       "      <th>group_location</th>\n",
       "      <th>group_member_count</th>\n",
       "      <th>group_age_months</th>\n",
       "      <th>has_sponsors</th>\n",
       "      <th>event_most_recent</th>\n",
       "      <th>events_mean_freq</th>\n",
       "    </tr>\n",
       "  </thead>\n",
       "  <tbody>\n",
       "    <tr>\n",
       "      <th>0</th>\n",
       "      <td>0.728889</td>\n",
       "      <td>1752853</td>\n",
       "      <td>Chicago Improv Practice Group</td>\n",
       "      <td>fine arts/culture</td>\n",
       "      <td>4.86</td>\n",
       "      <td>Chicago-IL</td>\n",
       "      <td>770</td>\n",
       "      <td>88.0</td>\n",
       "      <td>True</td>\n",
       "      <td>278.0</td>\n",
       "      <td>29.0</td>\n",
       "    </tr>\n",
       "    <tr>\n",
       "      <th>1</th>\n",
       "      <td>0.930806</td>\n",
       "      <td>19203922</td>\n",
       "      <td>Chicago Theater Meetup</td>\n",
       "      <td>fine arts/culture</td>\n",
       "      <td>4.35</td>\n",
       "      <td>Chicago-IL</td>\n",
       "      <td>763</td>\n",
       "      <td>28.0</td>\n",
       "      <td>False</td>\n",
       "      <td>6.0</td>\n",
       "      <td>1.0</td>\n",
       "    </tr>\n",
       "    <tr>\n",
       "      <th>2</th>\n",
       "      <td>0.944942</td>\n",
       "      <td>153363</td>\n",
       "      <td>Hollywood- LA Theatre Meetup Sponsored by Perf...</td>\n",
       "      <td>fine arts/culture</td>\n",
       "      <td>4.93</td>\n",
       "      <td>Los Angeles-CA</td>\n",
       "      <td>323</td>\n",
       "      <td>174.0</td>\n",
       "      <td>True</td>\n",
       "      <td>355.0</td>\n",
       "      <td>21.0</td>\n",
       "    </tr>\n",
       "    <tr>\n",
       "      <th>3</th>\n",
       "      <td>1.011340</td>\n",
       "      <td>23498932</td>\n",
       "      <td>Chicago: The Business &amp; The Craft of Acting</td>\n",
       "      <td>fine arts/culture</td>\n",
       "      <td>4.00</td>\n",
       "      <td>Chicago-IL</td>\n",
       "      <td>280</td>\n",
       "      <td>12.0</td>\n",
       "      <td>False</td>\n",
       "      <td>69.0</td>\n",
       "      <td>5.0</td>\n",
       "    </tr>\n",
       "    <tr>\n",
       "      <th>4</th>\n",
       "      <td>1.030890</td>\n",
       "      <td>978913</td>\n",
       "      <td>The Chicago Museum Meetup Group</td>\n",
       "      <td>fine arts/culture</td>\n",
       "      <td>4.46</td>\n",
       "      <td>Chicago-IL</td>\n",
       "      <td>2024</td>\n",
       "      <td>123.0</td>\n",
       "      <td>True</td>\n",
       "      <td>648.0</td>\n",
       "      <td>26.0</td>\n",
       "    </tr>\n",
       "    <tr>\n",
       "      <th>5</th>\n",
       "      <td>1.034316</td>\n",
       "      <td>25347056</td>\n",
       "      <td>CTM II</td>\n",
       "      <td>fine arts/culture</td>\n",
       "      <td>0.00</td>\n",
       "      <td>Chicago-IL</td>\n",
       "      <td>48</td>\n",
       "      <td>8.0</td>\n",
       "      <td>False</td>\n",
       "      <td>16.0</td>\n",
       "      <td>10.0</td>\n",
       "    </tr>\n",
       "    <tr>\n",
       "      <th>6</th>\n",
       "      <td>1.034373</td>\n",
       "      <td>25746275</td>\n",
       "      <td>PLAYcationers</td>\n",
       "      <td>fine arts/culture</td>\n",
       "      <td>0.00</td>\n",
       "      <td>Chicago-IL</td>\n",
       "      <td>48</td>\n",
       "      <td>7.0</td>\n",
       "      <td>False</td>\n",
       "      <td>204.0</td>\n",
       "      <td>NaN</td>\n",
       "    </tr>\n",
       "    <tr>\n",
       "      <th>7</th>\n",
       "      <td>1.054661</td>\n",
       "      <td>7981052</td>\n",
       "      <td>Improv Classes &amp; Workshops</td>\n",
       "      <td>fine arts/culture</td>\n",
       "      <td>4.56</td>\n",
       "      <td>San Francisco-CA</td>\n",
       "      <td>277</td>\n",
       "      <td>60.0</td>\n",
       "      <td>False</td>\n",
       "      <td>197.0</td>\n",
       "      <td>11.0</td>\n",
       "    </tr>\n",
       "    <tr>\n",
       "      <th>8</th>\n",
       "      <td>1.063196</td>\n",
       "      <td>7761862</td>\n",
       "      <td>Adventure Design Group / Bay Area</td>\n",
       "      <td>fine arts/culture</td>\n",
       "      <td>4.83</td>\n",
       "      <td>San Francisco-CA</td>\n",
       "      <td>1734</td>\n",
       "      <td>61.0</td>\n",
       "      <td>True</td>\n",
       "      <td>141.0</td>\n",
       "      <td>45.0</td>\n",
       "    </tr>\n",
       "  </tbody>\n",
       "</table>\n",
       "</div>"
      ],
      "text/plain": [
       "   recStrength  group_id                                         group_name  \\\n",
       "0     0.728889   1752853                      Chicago Improv Practice Group   \n",
       "1     0.930806  19203922                             Chicago Theater Meetup   \n",
       "2     0.944942    153363  Hollywood- LA Theatre Meetup Sponsored by Perf...   \n",
       "3     1.011340  23498932        Chicago: The Business & The Craft of Acting   \n",
       "4     1.030890    978913                    The Chicago Museum Meetup Group   \n",
       "5     1.034316  25347056                                             CTM II   \n",
       "6     1.034373  25746275                                      PLAYcationers   \n",
       "7     1.054661   7981052                         Improv Classes & Workshops   \n",
       "8     1.063196   7761862                  Adventure Design Group / Bay Area   \n",
       "\n",
       "       category.name  group_rating    group_location  group_member_count  \\\n",
       "0  fine arts/culture          4.86        Chicago-IL                 770   \n",
       "1  fine arts/culture          4.35        Chicago-IL                 763   \n",
       "2  fine arts/culture          4.93    Los Angeles-CA                 323   \n",
       "3  fine arts/culture          4.00        Chicago-IL                 280   \n",
       "4  fine arts/culture          4.46        Chicago-IL                2024   \n",
       "5  fine arts/culture          0.00        Chicago-IL                  48   \n",
       "6  fine arts/culture          0.00        Chicago-IL                  48   \n",
       "7  fine arts/culture          4.56  San Francisco-CA                 277   \n",
       "8  fine arts/culture          4.83  San Francisco-CA                1734   \n",
       "\n",
       "   group_age_months  has_sponsors  event_most_recent  events_mean_freq  \n",
       "0              88.0          True              278.0              29.0  \n",
       "1              28.0         False                6.0               1.0  \n",
       "2             174.0          True              355.0              21.0  \n",
       "3              12.0         False               69.0               5.0  \n",
       "4             123.0          True              648.0              26.0  \n",
       "5               8.0         False               16.0              10.0  \n",
       "6               7.0         False              204.0               NaN  \n",
       "7              60.0         False              197.0              11.0  \n",
       "8              61.0          True              141.0              45.0  "
      ]
     },
     "execution_count": 26,
     "metadata": {},
     "output_type": "execute_result"
    }
   ],
   "source": [
    "# test case\n",
    "organizer_id =  1825635 #216248567 # \n",
    "groups_to_ignore = get_groups_organized(organizer_id, interactions_indexed_df)\n",
    "recommend_items(organizer_id, groups_to_ignore, topn=10, reduced_dim=True, verbose=True)"
   ]
  },
  {
   "cell_type": "code",
   "execution_count": 27,
   "metadata": {},
   "outputs": [
    {
     "data": {
      "text/html": [
       "<div>\n",
       "<style>\n",
       "    .dataframe thead tr:only-child th {\n",
       "        text-align: right;\n",
       "    }\n",
       "\n",
       "    .dataframe thead th {\n",
       "        text-align: left;\n",
       "    }\n",
       "\n",
       "    .dataframe tbody tr th {\n",
       "        vertical-align: top;\n",
       "    }\n",
       "</style>\n",
       "<table border=\"1\" class=\"dataframe\">\n",
       "  <thead>\n",
       "    <tr style=\"text-align: right;\">\n",
       "      <th></th>\n",
       "      <th>category.name</th>\n",
       "      <th>group_name</th>\n",
       "      <th>group_location</th>\n",
       "      <th>group_member_count</th>\n",
       "      <th>group_age_months</th>\n",
       "      <th>group_rating</th>\n",
       "      <th>has_sponsors</th>\n",
       "      <th>event_most_recent</th>\n",
       "      <th>events_mean_freq</th>\n",
       "    </tr>\n",
       "  </thead>\n",
       "  <tbody>\n",
       "    <tr>\n",
       "      <th>2</th>\n",
       "      <td>fine arts/culture</td>\n",
       "      <td>Chicago Theater Goers Meetup Group</td>\n",
       "      <td>Chicago-IL</td>\n",
       "      <td>601</td>\n",
       "      <td>172.0</td>\n",
       "      <td>4.32</td>\n",
       "      <td>True</td>\n",
       "      <td>1.0</td>\n",
       "      <td>7.0</td>\n",
       "    </tr>\n",
       "  </tbody>\n",
       "</table>\n",
       "</div>"
      ],
      "text/plain": [
       "       category.name                          group_name group_location  \\\n",
       "2  fine arts/culture  Chicago Theater Goers Meetup Group     Chicago-IL   \n",
       "\n",
       "   group_member_count  group_age_months  group_rating  has_sponsors  \\\n",
       "2                 601             172.0          4.32          True   \n",
       "\n",
       "   event_most_recent  events_mean_freq  \n",
       "2                1.0               7.0  "
      ]
     },
     "execution_count": 27,
     "metadata": {},
     "output_type": "execute_result"
    }
   ],
   "source": [
    "grp_ids = interactions_indexed_df.loc[organizer_id]['group_id']\n",
    "if type(grp_ids) != pd.Series:\n",
    "    grp_ids = [grp_ids]\n",
    "(select_groups_df[select_groups_df['group_id'].isin(grp_ids)]\n",
    " [['category.name','group_name', 'group_location', 'group_member_count', 'group_age_months',\n",
    "   'group_rating', 'has_sponsors', 'event_most_recent', 'events_mean_freq']])    "
   ]
  },
  {
   "cell_type": "markdown",
   "metadata": {},
   "source": [
    "# Method 2: Clustering"
   ]
  },
  {
   "cell_type": "markdown",
   "metadata": {},
   "source": [
    "## A. Using original features"
   ]
  },
  {
   "cell_type": "code",
   "execution_count": null,
   "metadata": {
    "collapsed": true
   },
   "outputs": [],
   "source": [
    "def clusterGroups(X, verbose=True):\n",
    "    i = 1\n",
    "    sse_list = []\n",
    "    while True:\n",
    "        #build two kmeans models starting with 2 and 3 clusters and repeat until dss<0.2\n",
    "        i+=1\n",
    "        \n",
    "        cluster1 = KMeans(n_clusters=i, random_state=42, n_jobs=-1).fit(X)\n",
    "        cluster2 = KMeans(n_clusters=i+1, random_state=42, n_jobs=-1).fit(X)\n",
    "\n",
    "        sse_list.append(cluster1.inertia_) \n",
    "        \n",
    "        #decision criterion\n",
    "        dss = ((cluster1.inertia_ - cluster2.inertia_)/cluster1.inertia_)\n",
    "        if verbose:\n",
    "            print('change in SSE for k={0}: {1:.4f}'.format(i, dss))\n",
    "            \n",
    "        #exit if dss < 0.2\n",
    "        if (dss<0.01)&(i>=40):\n",
    "            break\n",
    "            \n",
    "    plt.figure(figsize=(10,5))\n",
    "    plt.plot(np.arange(2,i+1),sse_list)\n",
    "    plt.title(\"SSE for K-Means clustering\", size=15)\n",
    "    plt.ylabel(\"SSE\", size=15)\n",
    "    plt.xlabel(\"Number of clusters\", size=15);\n",
    "\n",
    "    return dss, i\n",
    "\n",
    "dss, i = clusterGroups(group_features_df.values, verbose=False)"
   ]
  },
  {
   "cell_type": "markdown",
   "metadata": {},
   "source": [
    "## Find K clusters and label the groups"
   ]
  },
  {
   "cell_type": "code",
   "execution_count": null,
   "metadata": {
    "collapsed": true
   },
   "outputs": [],
   "source": [
    "num_clusters = 30\n",
    "group_labels = KMeans(n_clusters=num_clusters, random_state=42, n_jobs=-1).fit_predict(group_features_df.values)\n",
    "group_label_df = pd.DataFrame(group_labels, \n",
    "                              columns=['group_label'],\n",
    "                              index = group_features_df.index)\n",
    "group_label_df.head()"
   ]
  },
  {
   "cell_type": "code",
   "execution_count": null,
   "metadata": {
    "collapsed": true
   },
   "outputs": [],
   "source": [
    "interactions_labeled_df = interactions_indexed_df.merge(group_label_df.reset_index(), how='left',\n",
    "                                                        left_on='group_id', right_on='group_id'\n",
    "                                                        )\n",
    "interactions_labeled_df.index = interactions_indexed_df.index\n",
    "#interactions_labeled_df.reset_index(inplace=True)\n",
    "interactions_labeled_df.head()"
   ]
  },
  {
   "cell_type": "code",
   "execution_count": null,
   "metadata": {
    "collapsed": true
   },
   "outputs": [],
   "source": [
    "def get_users_cluster(organizer_id, interactions_labeled_df):\n",
    "    interactions_person_df = interactions_labeled_df.loc[organizer_id]\n",
    "    #organizers with only one group\n",
    "    if type(interactions_person_df) == pd.Series:\n",
    "        return interactions_person_df['group_label']\n",
    "    #organizers with multiple groups\n",
    "    interactions_person_df.reset_index(inplace=True)\n",
    "    try:\n",
    "        #get the most frequent cluster label\n",
    "        user_cluster = mode(interactions_person_df['group_label'])\n",
    "    except StatisticsError:\n",
    "        #else get the cluster label of the newest group\n",
    "        user_cluster = interactions_person_df.loc[interactions_person_df['group_age_months'].idxmin()]['group_label']\n",
    "    return user_cluster\n",
    "\n",
    "def get_users_clusters(): \n",
    "    user_clusters = {}\n",
    "    for organizer_id in interactions_labeled_df.index.unique():\n",
    "        user_clusters[organizer_id] = get_users_cluster(organizer_id, interactions_labeled_df)\n",
    "    return user_clusters"
   ]
  },
  {
   "cell_type": "code",
   "execution_count": null,
   "metadata": {
    "collapsed": true
   },
   "outputs": [],
   "source": [
    "print('Getting user cluster labels..')\n",
    "users_labels = get_users_clusters()\n",
    "print('User labels created for {} organizers'.format(len(users_labels)))"
   ]
  },
  {
   "cell_type": "code",
   "execution_count": null,
   "metadata": {
    "collapsed": true
   },
   "outputs": [],
   "source": [
    "def get_similar_items_to_user_profile(person_id):\n",
    "    #get all groups in the user's cluster\n",
    "    numCluster = users_labels[person_id]\n",
    "    cluster_group_ids = ((interactions_labeled_df[(interactions_labeled_df['group_label']==numCluster) &\n",
    "                                                  (interactions_labeled_df.index!=person_id)])\n",
    "                         .reset_index())['group_id']\n",
    "    cluster_group_features_df = group_features_df[group_features_df.index.isin(cluster_group_ids)]\n",
    "    #Computes the distance between the user profile (from Method 1) and all item profiles in cluster\n",
    "    similarities = cdist(user_profiles[person_id], cluster_group_features_df.values, metric='euclidean')\n",
    "    #Gets the top similar items\n",
    "    similar_indices = similarities.argsort().flatten()\n",
    "    #Sort the similar items by similarity\n",
    "    similar_items = sorted([(cluster_group_features_df.index[i], similarities[0,i]) \n",
    "                            for i in similar_indices], \n",
    "                           key=lambda x: x[1])\n",
    "    return similar_items"
   ]
  },
  {
   "cell_type": "code",
   "execution_count": null,
   "metadata": {
    "collapsed": true
   },
   "outputs": [],
   "source": [
    "def recommend_items(user_id, items_to_ignore=[], topn=10, verbose=False):\n",
    "    similar_items = get_similar_items_to_user_profile(user_id)\n",
    "    #Ignores items the user has already interacted\n",
    "    similar_items_filtered = list(filter(lambda x: x[0] not in items_to_ignore, similar_items))\n",
    "        \n",
    "    recommendations_df = pd.DataFrame(similar_items_filtered, \n",
    "                                      columns=['group_id', 'recStrength']).head(topn)\n",
    "\n",
    "    if verbose:\n",
    "        recommendations_df = (recommendations_df.merge(select_groups_df, how = 'left', \n",
    "                                                       left_on = 'group_id', \n",
    "                                                       right_on = 'group_id')\n",
    "                              [['recStrength', 'group_id', 'group_name', 'category.name', 'group_rating',\n",
    "                                'group_location', 'group_member_count', 'group_age_months',\n",
    "                                'has_sponsors', 'event_most_recent', 'events_mean_freq'\n",
    "                                ]])\n",
    "\n",
    "    return recommendations_df"
   ]
  },
  {
   "cell_type": "code",
   "execution_count": null,
   "metadata": {
    "collapsed": true
   },
   "outputs": [],
   "source": [
    "organizer_id = 216248567\n",
    "groups_to_ignore = get_groups_organized(organizer_id, interactions_indexed_df)\n",
    "recommend_items(organizer_id, groups_to_ignore, verbose=True)"
   ]
  },
  {
   "cell_type": "code",
   "execution_count": null,
   "metadata": {
    "collapsed": true
   },
   "outputs": [],
   "source": [
    "grp_ids = interactions_indexed_df.loc[organizer_id]['group_id']\n",
    "(select_groups_df[select_groups_df['group_id'].isin(grp_ids)]\n",
    " [['category.name','group_name', 'group_location', 'group_member_count', 'group_age_months',\n",
    "   'group_rating', 'has_sponsors', 'event_most_recent', 'events_mean_freq']])"
   ]
  },
  {
   "cell_type": "markdown",
   "metadata": {},
   "source": [
    "# Method 3: Factorization Machines"
   ]
  },
  {
   "cell_type": "markdown",
   "metadata": {
    "collapsed": true
   },
   "source": [
    "## target variable"
   ]
  },
  {
   "cell_type": "code",
   "execution_count": null,
   "metadata": {},
   "outputs": [],
   "source": [
    "target = 'past_event_count'\n",
    "q95 = np.percentile(select_groups_df[target], 95)\n",
    "\n",
    "fig = plt.figure(figsize=(10,6));\n",
    "plt.title(\"Histogram of target\", size=15)\n",
    "plt.ylabel(\"Count\", size=15)\n",
    "plt.xlabel(target, size=15);\n",
    "plt.hist(select_groups_df[select_groups_df[target]<=q95][target], bins=50);\n",
    "#select_groups_df.hist(column=target, bins=20);"
   ]
  },
  {
   "cell_type": "code",
   "execution_count": null,
   "metadata": {},
   "outputs": [],
   "source": [
    "log_target = np.array([np.log10(t) if t>0 else 0 for t in select_groups_df[target]])\n",
    "fig = plt.figure(figsize=(10,6));\n",
    "plt.title(\"Histogram of log(target)\", size=15)\n",
    "plt.ylabel(\"Count\", size=15)\n",
    "plt.xlabel(target, size=15);\n",
    "plt.hist(log_target, bins=15);"
   ]
  },
  {
   "cell_type": "code",
   "execution_count": null,
   "metadata": {},
   "outputs": [],
   "source": [
    "print('LOG(Target) --> MIN:{0:.4f} | MAX:{1:.4f} | MEAN:{2:.4f} | MEDIAN:{3:.4f}'\n",
    "      .format(np.min(log_target), np.max(log_target), np.mean(log_target), np.median(log_target)))"
   ]
  },
  {
   "cell_type": "markdown",
   "metadata": {},
   "source": [
    "## Feature A. Merge the group and organizer features"
   ]
  },
  {
   "cell_type": "code",
   "execution_count": null,
   "metadata": {
    "collapsed": true
   },
   "outputs": [],
   "source": [
    "organizer_features_df_copy = organizer_features_df.copy()\n",
    "organizer_features_df_copy.reset_index(inplace=True)\n",
    "\n",
    "group_features_df_copy = group_features_df.copy()\n",
    "group_features_df_copy.reset_index(inplace=True)\n",
    "#using the original values for the target, not the normalized ones\n",
    "group_features_df_copy.drop([target], axis=1, inplace=True)\n",
    "group_features_df_copy = group_features_df_copy.merge(select_groups_df[['organizer_id', 'group_id', target]],\n",
    "                                                      left_on='group_id', right_on='group_id')\n",
    "\n",
    "organizer_group_features_combined_df = (organizer_features_df_copy.merge(group_features_df_copy, how='inner',\n",
    "                                                                 left_on='organizer_id', right_on='organizer_id'))\n",
    "print('Dimension of the merged feature matrix:', organizer_group_features_combined_df.shape)\n",
    "print(organizer_group_features_combined_df.columns)"
   ]
  },
  {
   "cell_type": "markdown",
   "metadata": {},
   "source": [
    "## Feature B. Use only group features"
   ]
  },
  {
   "cell_type": "code",
   "execution_count": null,
   "metadata": {},
   "outputs": [],
   "source": [
    "group_features_df_copy = group_features_df.copy()\n",
    "group_features_df_copy.reset_index(inplace=True)\n",
    "#using the original values for the target, not the normalized ones\n",
    "group_features_df_copy.drop([target], axis=1, inplace=True)\n",
    "group_features_df_copy = group_features_df_copy.merge(select_groups_df[['group_id', 'organizer_id', target]],\n",
    "                                                      left_on='group_id', right_on='group_id')\n",
    "\n",
    "organizer_group_features_combined_df = group_features_df_copy.copy()\n",
    "\n",
    "print('Dimension of the merged feature matrix:', organizer_group_features_combined_df.shape)\n",
    "print(organizer_group_features_combined_df.columns)"
   ]
  },
  {
   "cell_type": "markdown",
   "metadata": {},
   "source": [
    "## Cross Validation/ Holdout Split"
   ]
  },
  {
   "cell_type": "code",
   "execution_count": null,
   "metadata": {},
   "outputs": [],
   "source": [
    "FMfeatures_df, FMtarget_df = (organizer_group_features_combined_df.drop([target,'group_id','organizer_id'],axis=1), \n",
    "                              organizer_group_features_combined_df[target])\n",
    "print('Features Dataset shape: {}'.format(FMfeatures_df.shape))\n",
    "\n",
    "feature_cv_idx, feature_holdout_idx, target_cv, target_holdout = train_test_split(FMfeatures_df.index, \n",
    "                                                                                  FMtarget_df, \n",
    "                                                                                  random_state=42, \n",
    "                                                                                  test_size=0.2)\n",
    "print('Cross-Validation Features Dataset shape: {}'.format(FMfeatures_df.iloc[feature_cv_idx].shape))\n",
    "print('Holdout Features Dataset shape: {}'.format(FMfeatures_df.iloc[feature_holdout_idx].shape))"
   ]
  },
  {
   "cell_type": "markdown",
   "metadata": {},
   "source": [
    "## Cross Validation"
   ]
  },
  {
   "cell_type": "code",
   "execution_count": null,
   "metadata": {},
   "outputs": [],
   "source": [
    "feature_train_idx, feature_test_idx, target_train, target_test = train_test_split(feature_cv_idx, \n",
    "                                                                                  target_cv, \n",
    "                                                                                  random_state=42, \n",
    "                                                                                  test_size=0.2)\n",
    "print('Train set Features Dataset shape: {}'.format(FMfeatures_df.iloc[feature_train_idx].shape))\n",
    "print('Test set Features Dataset shape : {}'.format(FMfeatures_df.iloc[feature_test_idx].shape))"
   ]
  },
  {
   "cell_type": "markdown",
   "metadata": {},
   "source": [
    "## one-hot-encoded organizer ids and one-hot-encoded group ids¶"
   ]
  },
  {
   "cell_type": "code",
   "execution_count": null,
   "metadata": {},
   "outputs": [],
   "source": [
    "organizer_group_features_combined_df.columns"
   ]
  },
  {
   "cell_type": "code",
   "execution_count": null,
   "metadata": {},
   "outputs": [],
   "source": [
    "feature_ids = ['organizer_id', 'group_id']\n",
    "\n",
    "encoder_lb = defaultdict()\n",
    "for feature in feature_ids:\n",
    "    enc = LabelBinarizer(sparse_output=True)\n",
    "    enc = enc.fit(organizer_group_features_combined_df[feature].values)\n",
    "    # create a dictionary of encoders\n",
    "    encoder_lb[feature] = enc\n",
    "    \n",
    "X_tr_list = []\n",
    "X_te_list = []\n",
    "for feature in feature_ids:\n",
    "    enc = encoder_lb[feature]\n",
    "    X_tr_list.append(enc.transform(organizer_group_features_combined_df.iloc[feature_train_idx][feature].values))\n",
    "    X_te_list.append(enc.transform(organizer_group_features_combined_df.iloc[feature_test_idx][feature].values))\n",
    "    \n",
    "X_tr_sparse = sp.hstack(X_tr_list)\n",
    "X_te_sparse = sp.hstack(X_te_list)\n",
    "\n",
    "X_tr_sparse = sp.csr_matrix(X_tr_sparse)\n",
    "X_te_sparse = sp.csr_matrix(X_te_sparse)\n",
    "\n",
    "del X_tr_list[:]\n",
    "del X_te_list[:]\n",
    "gc.collect()\n",
    "\n",
    "print('Non-zeros rate in feature set: {:.05f}'.format(np.mean(X_tr_sparse != 0)))\n",
    "print('Dimension of one hot encoded train set feature vector:{}'.format(X_tr_sparse.shape))\n",
    "print('Dimension of one hot encoded test set feature vector:{}'.format(X_te_sparse.shape))"
   ]
  },
  {
   "cell_type": "markdown",
   "metadata": {},
   "source": [
    "## training Model using both group and organizer features"
   ]
  },
  {
   "cell_type": "code",
   "execution_count": null,
   "metadata": {
    "collapsed": true
   },
   "outputs": [],
   "source": [
    "X_tr_dense = FMfeatures_df.iloc[feature_train_idx].values\n",
    "X_te_dense = FMfeatures_df.iloc[feature_test_idx].values\n",
    "#y_tr = target_train.values\n",
    "#y_te = target_test.values\n",
    "#using log as target\n",
    "y_tr = np.array([np.log10(t) if t>0 else 0 for t in target_train.values])\n",
    "y_te = np.array([np.log10(t) if t>0 else 0 for t in target_test.values])\n",
    "\n",
    "classifier_threshold = np.mean(y_tr)\n",
    "\n",
    "print('Dimension of X_tr_dense:',X_tr_dense.shape)\n",
    "print('Predicting {}'.format(target))\n",
    "model = TFFMRegressor(\n",
    "    order=4, \n",
    "    rank=5, \n",
    "    optimizer=tf.train.AdamOptimizer(learning_rate=0.001), \n",
    "    n_epochs=40, \n",
    "    batch_size=256,\n",
    "    init_std=0.01,\n",
    "    reg=0.001, # 0 for no L2 regularization\n",
    "#    reweight_reg=True,\n",
    "    input_type='dense',\n",
    "    seed=42\n",
    ")\n",
    "model.fit(X_tr_dense, y_tr, show_progress=True)\n",
    "\n",
    "predictions_tr = model.predict(X_tr_dense)\n",
    "predictions_te = model.predict(X_te_dense)\n",
    "\n",
    "print('Accuracy on train set: {}'.format(accuracy_score(y_tr>classifier_threshold, \n",
    "                                                        predictions_tr>classifier_threshold)))\n",
    "print('Accuracy on validation set: {}'.format(accuracy_score(y_te>classifier_threshold, \n",
    "                                                       predictions_te>classifier_threshold)))\n",
    "print('RMSE on training set: {}'.format(np.sqrt(mean_squared_error(y_tr, predictions_tr))))\n",
    "print('RMSE on validation set: {}'.format(np.sqrt(mean_squared_error(y_te, predictions_te))))\n",
    "print('RMSE/Mean on validation set: {}'.format(np.sqrt(mean_squared_error(y_te, \n",
    "                                                                          predictions_te))/np.mean(y_te)))\n",
    "\n",
    "model.destroy()"
   ]
  },
  {
   "cell_type": "markdown",
   "metadata": {},
   "source": [
    "## training Model using both group features and IDs"
   ]
  },
  {
   "cell_type": "code",
   "execution_count": null,
   "metadata": {},
   "outputs": [],
   "source": [
    "X_tr_dense = FMfeatures_df.iloc[feature_train_idx].values\n",
    "X_te_dense = FMfeatures_df.iloc[feature_test_idx].values\n",
    "\n",
    "X_tr_all_sparse = sp.csr_matrix(sp.hstack((X_tr_sparse, sp.csr_matrix(X_tr_dense))))\n",
    "X_te_all_sparse = sp.csr_matrix(sp.hstack((X_te_sparse, sp.csr_matrix(X_te_dense))))\n",
    "\n",
    "#y_tr = target_train.values\n",
    "#y_te = target_test.values\n",
    "#using log as target\n",
    "y_tr = np.array([np.log10(t) if t>0 else 0 for t in target_train.values])\n",
    "y_te = np.array([np.log10(t) if t>0 else 0 for t in target_test.values])\n",
    "\n",
    "classifier_threshold = np.mean(y_tr)\n",
    "\n",
    "print('Dimension of X_tr_all_sparse:',X_tr_all_sparse.shape)\n",
    "print('Predicting {}'.format(target))\n",
    "model = TFFMRegressor(\n",
    "    order=2, \n",
    "    rank=5, \n",
    "    optimizer=tf.train.GradientDescentOptimizer(learning_rate=0.01),#AdamOptimizer(learning_rate=0.001), \n",
    "    n_epochs=300, \n",
    "    batch_size=200,\n",
    "    init_std=0.1,\n",
    "    reg=1, # 0 for no L2 regularization\n",
    "#    reweight_reg=True,\n",
    "    input_type='sparse',\n",
    "    seed=42\n",
    ")\n",
    "model.fit(X_tr_all_sparse, y_tr, show_progress=True)\n",
    "\n",
    "predictions_tr = model.predict(X_tr_all_sparse)\n",
    "predictions_te = model.predict(X_te_all_sparse)\n",
    "\n",
    "print('Accuracy on train set: {}'.format(accuracy_score(y_tr>classifier_threshold, \n",
    "                                                        predictions_tr>classifier_threshold)))\n",
    "print('Accuracy on validation set: {}'.format(accuracy_score(y_te>classifier_threshold, \n",
    "                                                       predictions_te>classifier_threshold)))\n",
    "print('RMSE on training set: {}'.format(np.sqrt(mean_squared_error(y_tr, predictions_tr))))\n",
    "print('RMSE on validation set: {}'.format(np.sqrt(mean_squared_error(y_te, predictions_te))))\n",
    "print('RMSE/Mean on validation set: {}'.format(np.sqrt(mean_squared_error(y_te, \n",
    "                                                                          predictions_te))/np.mean(y_te)))\n",
    "\n",
    "#model.destroy()"
   ]
  },
  {
   "cell_type": "markdown",
   "metadata": {},
   "source": [
    "## testing model"
   ]
  },
  {
   "cell_type": "code",
   "execution_count": null,
   "metadata": {
    "collapsed": true
   },
   "outputs": [],
   "source": [
    "X_ho_dense = FMfeatures_df.iloc[feature_holdout_idx].values\n",
    "y_ho = np.array([np.log10(t) if t>0 else 0 for t in target_holdout.values])\n",
    "predictions_ho = model.predict(X_ho_dense)\n",
    "\n",
    "print('RMSE on holdout set: {}'.format(np.sqrt(mean_squared_error(y_ho, predictions_ho))))\n",
    "print('RMSE/Mean on holdout set: {}'.format(np.sqrt(mean_squared_error(y_ho, \n",
    "                                                                          predictions_ho))/np.mean(y_ho)))\n",
    "model.destroy()"
   ]
  },
  {
   "cell_type": "markdown",
   "metadata": {},
   "source": [
    "## Recommendations based on predicted target"
   ]
  },
  {
   "cell_type": "code",
   "execution_count": null,
   "metadata": {
    "collapsed": true
   },
   "outputs": [],
   "source": [
    "def create_sparse_matrix(organizer_id, groups_to_ignore):\n",
    "    rows_to_encode = ~organizer_group_features_combined_df['group_id'].isin(groups_to_ignore)\n",
    "    X_dense = FMfeatures_df[rows_to_encode].values\n",
    "    \n",
    "    X_list = []\n",
    "    enc = encoder_lb['organizer_id']\n",
    "    X_list.append(sp.vstack([enc.transform([organizer_id])]*sum(rows_to_encode)))\n",
    "    enc = encoder_lb['group_id']\n",
    "    group_ids2enc = organizer_group_features_combined_df[rows_to_encode]['group_id']\n",
    "    X_list.append(enc.transform(group_ids2enc))\n",
    "    X_sparse = sp.hstack(X_list)\n",
    "    del X_list[:]\n",
    "    X_all_sparse = sp.csr_matrix(sp.hstack((X_sparse, sp.csr_matrix(X_dense))))\n",
    "    del X_sparse, X_dense\n",
    "        \n",
    "    return group_ids2enc, X_all_sparse"
   ]
  },
  {
   "cell_type": "code",
   "execution_count": null,
   "metadata": {
    "collapsed": true
   },
   "outputs": [],
   "source": [
    "def get_similar_items_to_user_profile(person_id, topn=10):\n",
    "    #Computes the target between the user profile and all item profiles in cluster\n",
    "    group_ids_ignore = get_groups_organized(person_id, interactions_indexed_df)\n",
    "    group_ids_compared, user_all_groups_sparse_mat = create_sparse_matrix(person_id, group_ids_ignore)\n",
    "\n",
    "    similarities = model.predict(user_all_groups_sparse_mat)\n",
    "    del user_all_groups_sparse_mat\n",
    "\n",
    "    #Gets the top similar items\n",
    "    similar_indices = similarities.argsort().flatten()[-topn:]\n",
    "    #Sort the similar items by similarity\n",
    "    similar_items = sorted([(group_ids_compared[i], similarities[i]) \n",
    "                            for i in similar_indices], \n",
    "                           key=lambda x: -x[1])\n",
    "    return similar_items"
   ]
  },
  {
   "cell_type": "code",
   "execution_count": null,
   "metadata": {
    "collapsed": true
   },
   "outputs": [],
   "source": [
    "def recommend_items(user_id, items_to_ignore=[], topn=10, verbose=False):\n",
    "    similar_items = get_similar_items_to_user_profile(user_id)\n",
    "    #Ignores items the user has already interacted\n",
    "    similar_items_filtered = list(filter(lambda x: x[0] not in items_to_ignore, similar_items))\n",
    "        \n",
    "    recommendations_df = pd.DataFrame(similar_items_filtered, \n",
    "                                      columns=['group_id', 'recStrength']).head(topn)\n",
    "\n",
    "    if verbose:\n",
    "        recommendations_df = (recommendations_df.merge(select_groups_df, how = 'left', \n",
    "                                                       left_on = 'group_id', \n",
    "                                                       right_on = 'group_id')\n",
    "                              [['recStrength', 'group_id', 'group_name', 'category.name', 'group_rating',\n",
    "                                'group_location', 'group_member_count', 'group_age_months',\n",
    "                                'has_sponsors', 'event_most_recent', 'events_mean_freq'\n",
    "                                ]])\n",
    "\n",
    "    return recommendations_df"
   ]
  },
  {
   "cell_type": "code",
   "execution_count": null,
   "metadata": {},
   "outputs": [],
   "source": [
    "organizer_id = 216248567\n",
    "recommend_items(organizer_id, items_to_ignore=[], verbose=True)"
   ]
  },
  {
   "cell_type": "code",
   "execution_count": null,
   "metadata": {},
   "outputs": [],
   "source": [
    "grp_ids = get_groups_organized(organizer_id, interactions_indexed_df)\n",
    "(select_groups_df[select_groups_df['group_id'].isin(grp_ids)]\n",
    " [['category.name','group_name', 'group_location', 'group_member_count', 'group_age_months',\n",
    "   'group_rating', 'has_sponsors', 'event_most_recent', 'events_mean_freq']])"
   ]
  },
  {
   "cell_type": "code",
   "execution_count": null,
   "metadata": {
    "collapsed": true
   },
   "outputs": [],
   "source": []
  }
 ],
 "metadata": {
  "kernelspec": {
   "display_name": "Python 3",
   "language": "python",
   "name": "python3"
  },
  "language_info": {
   "codemirror_mode": {
    "name": "ipython",
    "version": 3
   },
   "file_extension": ".py",
   "mimetype": "text/x-python",
   "name": "python",
   "nbconvert_exporter": "python",
   "pygments_lexer": "ipython3",
   "version": "3.6.4"
  },
  "toc": {
   "nav_menu": {},
   "number_sections": false,
   "sideBar": true,
   "skip_h1_title": false,
   "title_cell": "Table of Contents",
   "title_sidebar": "Contents",
   "toc_cell": false,
   "toc_position": {},
   "toc_section_display": true,
   "toc_window_display": false
  },
  "varInspector": {
   "cols": {
    "lenName": 16,
    "lenType": 16,
    "lenVar": 40
   },
   "kernels_config": {
    "python": {
     "delete_cmd_postfix": "",
     "delete_cmd_prefix": "del ",
     "library": "var_list.py",
     "varRefreshCmd": "print(var_dic_list())"
    },
    "r": {
     "delete_cmd_postfix": ") ",
     "delete_cmd_prefix": "rm(",
     "library": "var_list.r",
     "varRefreshCmd": "cat(var_dic_list()) "
    }
   },
   "types_to_exclude": [
    "module",
    "function",
    "builtin_function_or_method",
    "instance",
    "_Feature"
   ],
   "window_display": false
  }
 },
 "nbformat": 4,
 "nbformat_minor": 2
}
